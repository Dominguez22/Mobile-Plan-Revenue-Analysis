{
 "cells": [
  {
   "cell_type": "markdown",
   "metadata": {
    "id": "3rYiDeEH0q0f"
   },
   "source": [
    "# Mobile Plan Revenue Analysis\n",
    "\n",
    "You work as an analyst for the telecommunications operator Megaline. The company offers its customers two prepaid plans: Surf and Ultimate. The commercial department wants to know which of the two plans generates more revenue in order to adjust the advertising budget accordingly.\n",
    "\n",
    "You are going to conduct a preliminary analysis of the plans based on a relatively small selection of customers. You will have data on 500 Megaline customers: who they are, where they are from, which plan they use, as well as the number of calls they made and text messages they sent in 2018. Your task is to analyze customer behavior and determine which prepaid plan generates more revenue."
   ]
  },
  {
   "cell_type": "markdown",
   "metadata": {
    "id": "MQi4IPy70q0y"
   },
   "source": [
    "## 1. Initialization"
   ]
  },
  {
   "cell_type": "code",
   "execution_count": 4,
   "metadata": {
    "id": "MtYIuBxu0q0z",
    "trusted": true
   },
   "outputs": [],
   "source": [
    "# Importing libraries\n",
    "import pandas as pd\n",
    "import numpy as np\n",
    "from matplotlib import pyplot as plt\n",
    "import seaborn as sns\n",
    "from scipy import stats as st"
   ]
  },
  {
   "cell_type": "markdown",
   "metadata": {
    "id": "4ysWWC5i0q00"
   },
   "source": [
    "## 2. Loading Data"
   ]
  },
  {
   "cell_type": "code",
   "execution_count": 5,
   "metadata": {
    "id": "CCqPW7rS0q01",
    "trusted": true
   },
   "outputs": [],
   "source": [
    "# Loading datasets\n",
    "calls_df = pd.read_csv('megaline_calls.csv')\n",
    "internet_df = pd.read_csv('megaline_internet.csv')\n",
    "messages_df = pd.read_csv('megaline_messages.csv')\n",
    "plans_df = pd.read_csv('megaline_plans.csv')\n",
    "users_df = pd.read_csv('megaline_users.csv')"
   ]
  },
  {
   "cell_type": "markdown",
   "metadata": {
    "id": "69qqoJ3r0q01"
   },
   "source": [
    "## 3. Preprocessing Data"
   ]
  },
  {
   "cell_type": "markdown",
   "metadata": {
    "id": "ohBhimvH0q01"
   },
   "source": [
    "### Plans"
   ]
  },
  {
   "cell_type": "code",
   "execution_count": 6,
   "metadata": {
    "id": "GptqP3Q40q02",
    "trusted": true
   },
   "outputs": [
    {
     "name": "stdout",
     "output_type": "stream",
     "text": [
      "<class 'pandas.core.frame.DataFrame'>\n",
      "RangeIndex: 2 entries, 0 to 1\n",
      "Data columns (total 8 columns):\n",
      " #   Column                 Non-Null Count  Dtype  \n",
      "---  ------                 --------------  -----  \n",
      " 0   messages_included      2 non-null      int64  \n",
      " 1   mb_per_month_included  2 non-null      int64  \n",
      " 2   minutes_included       2 non-null      int64  \n",
      " 3   usd_monthly_pay        2 non-null      int64  \n",
      " 4   usd_per_gb             2 non-null      int64  \n",
      " 5   usd_per_message        2 non-null      float64\n",
      " 6   usd_per_minute         2 non-null      float64\n",
      " 7   plan_name              2 non-null      object \n",
      "dtypes: float64(2), int64(5), object(1)\n",
      "memory usage: 260.0+ bytes\n"
     ]
    }
   ],
   "source": [
    "# Print general/summary information about the tariffs dataFrame\n",
    "plans_df.info()"
   ]
  },
  {
   "cell_type": "code",
   "execution_count": 7,
   "metadata": {
    "id": "64xzjwL70q02",
    "trusted": true
   },
   "outputs": [
    {
     "name": "stdout",
     "output_type": "stream",
     "text": [
      "   messages_included  mb_per_month_included  minutes_included  \\\n",
      "0                 50                  15360               500   \n",
      "1               1000                  30720              3000   \n",
      "\n",
      "   usd_monthly_pay  usd_per_gb  usd_per_message  usd_per_minute plan_name  \n",
      "0               20          10             0.03            0.03      surf  \n",
      "1               70           7             0.01            0.01  ultimate  \n"
     ]
    }
   ],
   "source": [
    "# Print a sample of the data for the tariffs dataFrame\n",
    "print(plans_df)"
   ]
  },
  {
   "cell_type": "markdown",
   "metadata": {
    "id": "R3C05i1l0q03"
   },
   "source": [
    "### Data Correction"
   ]
  },
  {
   "cell_type": "code",
   "execution_count": 8,
   "metadata": {
    "id": "Y7SVmjGn0q03",
    "trusted": true
   },
   "outputs": [
    {
     "name": "stdout",
     "output_type": "stream",
     "text": [
      "15.14792899408284\n",
      "30.29585798816568\n"
     ]
    }
   ],
   "source": [
    "plans_df['mb_per_month_included'] = plans_df['mb_per_month_included'] / 1014 #convert mb to gb\n",
    "print(plans_df['mb_per_month_included'][0])\n",
    "print(plans_df['mb_per_month_included'][1])"
   ]
  },
  {
   "cell_type": "markdown",
   "metadata": {
    "id": "1n2X6WXf0q04"
   },
   "source": [
    "### Users"
   ]
  },
  {
   "cell_type": "code",
   "execution_count": 9,
   "metadata": {
    "id": "2NgjWFqx0q05",
    "trusted": true
   },
   "outputs": [
    {
     "name": "stdout",
     "output_type": "stream",
     "text": [
      "<class 'pandas.core.frame.DataFrame'>\n",
      "RangeIndex: 500 entries, 0 to 499\n",
      "Data columns (total 8 columns):\n",
      " #   Column      Non-Null Count  Dtype \n",
      "---  ------      --------------  ----- \n",
      " 0   user_id     500 non-null    int64 \n",
      " 1   first_name  500 non-null    object\n",
      " 2   last_name   500 non-null    object\n",
      " 3   age         500 non-null    int64 \n",
      " 4   city        500 non-null    object\n",
      " 5   reg_date    500 non-null    object\n",
      " 6   plan        500 non-null    object\n",
      " 7   churn_date  34 non-null     object\n",
      "dtypes: int64(2), object(6)\n",
      "memory usage: 31.4+ KB\n"
     ]
    }
   ],
   "source": [
    "# Print general/summary information about the users DataFrame\n",
    "users_df.info()"
   ]
  },
  {
   "cell_type": "code",
   "execution_count": 10,
   "metadata": {
    "id": "1IN1L9uh0q05",
    "trusted": true
   },
   "outputs": [
    {
     "name": "stdout",
     "output_type": "stream",
     "text": [
      "   user_id first_name  last_name  age                                    city  \\\n",
      "0     1000   Anamaria      Bauer   45   Atlanta-Sandy Springs-Roswell, GA MSA   \n",
      "1     1001     Mickey  Wilkerson   28         Seattle-Tacoma-Bellevue, WA MSA   \n",
      "2     1002     Carlee    Hoffman   36    Las Vegas-Henderson-Paradise, NV MSA   \n",
      "3     1003   Reynaldo    Jenkins   52                           Tulsa, OK MSA   \n",
      "4     1004    Leonila   Thompson   40         Seattle-Tacoma-Bellevue, WA MSA   \n",
      "5     1005      Livia    Shields   31     Dallas-Fort Worth-Arlington, TX MSA   \n",
      "6     1006     Jesusa   Bradford   73  San Francisco-Oakland-Berkeley, CA MSA   \n",
      "7     1007    Eusebio      Welch   42           Grand Rapids-Kentwood, MI MSA   \n",
      "8     1008      Emely    Hoffman   53       Orlando-Kissimmee-Sanford, FL MSA   \n",
      "9     1009      Gerry     Little   19  San Jose-Sunnyvale-Santa Clara, CA MSA   \n",
      "\n",
      "     reg_date      plan  churn_date  \n",
      "0  2018-12-24  ultimate         NaN  \n",
      "1  2018-08-13      surf         NaN  \n",
      "2  2018-10-21      surf         NaN  \n",
      "3  2018-01-28      surf         NaN  \n",
      "4  2018-05-23      surf         NaN  \n",
      "5  2018-11-29      surf         NaN  \n",
      "6  2018-11-27  ultimate  2018-12-18  \n",
      "7  2018-07-11      surf         NaN  \n",
      "8  2018-08-03  ultimate         NaN  \n",
      "9  2018-04-22      surf         NaN  \n"
     ]
    }
   ],
   "source": [
    "# Print a sample of the data for users\n",
    "print(users_df.head(10))"
   ]
  },
  {
   "cell_type": "markdown",
   "metadata": {
    "id": "dCZoUq4f0q06"
   },
   "source": [
    "NOTE: The data type of the dates is defined as object, when it should be datetime.\n",
    "The city names in the 'city' column are separated by a hyphen.\n",
    "There are also missing values in the 'churn_date' column."
   ]
  },
  {
   "cell_type": "markdown",
   "metadata": {
    "id": "BX5FQh_I0q06"
   },
   "source": [
    "### Data Correction"
   ]
  },
  {
   "cell_type": "code",
   "execution_count": 11,
   "metadata": {
    "id": "yUqX-K0C0q07",
    "trusted": true
   },
   "outputs": [
    {
     "name": "stdout",
     "output_type": "stream",
     "text": [
      "users_df['reg_date']: datetime64[ns]\n",
      "users_df['churn_date']: datetime64[ns]\n"
     ]
    }
   ],
   "source": [
    "# From 'object' data to 'datatime' format\n",
    "users_df['reg_date'] = pd.to_datetime(users_df['reg_date'], format = '%Y-%m-%d')\n",
    "users_df['churn_date'] = pd.to_datetime(users_df['churn_date'], format = '%Y-%m-%d')\n",
    "print(f\"users_df['reg_date']: {users_df['reg_date'].dtype}\")\n",
    "print(f\"users_df['churn_date']: {users_df['churn_date'].dtype}\")"
   ]
  },
  {
   "cell_type": "markdown",
   "metadata": {
    "id": "ycwuARJp0q07"
   },
   "source": [
    "### *Additional Corrections"
   ]
  },
  {
   "cell_type": "code",
   "execution_count": 12,
   "metadata": {
    "id": "iq0AaBS90q08",
    "trusted": true
   },
   "outputs": [
    {
     "name": "stdout",
     "output_type": "stream",
     "text": [
      "\n",
      "Numero de valores duplicados: 0\n",
      "Numero de valores ausentes: user_id         0\n",
      "first_name      0\n",
      "last_name       0\n",
      "age             0\n",
      "city            0\n",
      "reg_date        0\n",
      "plan            0\n",
      "churn_date    466\n",
      "dtype: int64\n"
     ]
    }
   ],
   "source": [
    "# Replacing the hyphens with spaces\n",
    "users_df['city'] = users_df['city'].str.replace('-',' ')\n",
    "users_df['city'].head(10)\n",
    "print()\n",
    "# Checking for missing or duplicated values\n",
    "print(\"Numero de valores duplicados:\", users_df.duplicated().sum())\n",
    "print(\"Numero de valores ausentes:\", users_df.isna().sum())"
   ]
  },
  {
   "cell_type": "markdown",
   "metadata": {
    "id": "o7MeKCid0q08"
   },
   "source": [
    "### Calls"
   ]
  },
  {
   "cell_type": "code",
   "execution_count": 13,
   "metadata": {
    "id": "6dDlnoDm0q08",
    "trusted": true
   },
   "outputs": [
    {
     "name": "stdout",
     "output_type": "stream",
     "text": [
      "<class 'pandas.core.frame.DataFrame'>\n",
      "RangeIndex: 137735 entries, 0 to 137734\n",
      "Data columns (total 4 columns):\n",
      " #   Column     Non-Null Count   Dtype  \n",
      "---  ------     --------------   -----  \n",
      " 0   id         137735 non-null  object \n",
      " 1   user_id    137735 non-null  int64  \n",
      " 2   call_date  137735 non-null  object \n",
      " 3   duration   137735 non-null  float64\n",
      "dtypes: float64(1), int64(1), object(2)\n",
      "memory usage: 4.2+ MB\n"
     ]
    }
   ],
   "source": [
    "# Print general/summary information about the calls DataFrame\n",
    "calls_df.info()"
   ]
  },
  {
   "cell_type": "code",
   "execution_count": 14,
   "metadata": {
    "id": "kuh1vlNB0q09",
    "trusted": true
   },
   "outputs": [
    {
     "name": "stdout",
     "output_type": "stream",
     "text": [
      "          id  user_id   call_date  duration\n",
      "0    1000_93     1000  2018-12-27      8.52\n",
      "1   1000_145     1000  2018-12-27     13.66\n",
      "2   1000_247     1000  2018-12-27     14.48\n",
      "3   1000_309     1000  2018-12-28      5.76\n",
      "4   1000_380     1000  2018-12-30      4.22\n",
      "5   1000_388     1000  2018-12-31      2.20\n",
      "6   1000_510     1000  2018-12-27      5.75\n",
      "7   1000_521     1000  2018-12-28     14.18\n",
      "8   1000_530     1000  2018-12-28      5.77\n",
      "9   1000_544     1000  2018-12-26      4.40\n",
      "10  1000_693     1000  2018-12-31      4.31\n",
      "11  1000_705     1000  2018-12-31     12.78\n",
      "12  1000_735     1000  2018-12-29      1.70\n",
      "13  1000_778     1000  2018-12-28      3.29\n",
      "14  1000_826     1000  2018-12-26      9.96\n",
      "15  1000_842     1000  2018-12-27      5.85\n",
      "16    1001_0     1001  2018-09-06     10.06\n",
      "17    1001_1     1001  2018-10-12      1.00\n",
      "18    1001_2     1001  2018-10-17     15.83\n",
      "19    1001_4     1001  2018-12-05      0.00\n"
     ]
    }
   ],
   "source": [
    "# Imprime una muestra de datos para las llamadas\n",
    "print(calls_df.head(20))"
   ]
  },
  {
   "cell_type": "markdown",
   "metadata": {
    "id": "DOAxYJSx0q09"
   },
   "source": [
    "NOTE: The data type in the 'call_date' column can be converted to 'datetime'. The minute values in the 'duration' column appear to be incorrect."
   ]
  },
  {
   "cell_type": "markdown",
   "metadata": {
    "id": "S7hzxmbX0q0-"
   },
   "source": [
    "### Data Correction"
   ]
  },
  {
   "cell_type": "code",
   "execution_count": 15,
   "metadata": {
    "id": "S2r8xA4f0q0-",
    "trusted": true
   },
   "outputs": [
    {
     "name": "stdout",
     "output_type": "stream",
     "text": [
      "datetime64[ns]\n"
     ]
    }
   ],
   "source": [
    "# From 'object' data to 'datatime' format\n",
    "calls_df['call_date'] = pd.to_datetime(calls_df['call_date'], format = '%Y-%m-%d')\n",
    "print(calls_df['call_date'].dtype)"
   ]
  },
  {
   "cell_type": "markdown",
   "metadata": {
    "id": "KrMgTrlG0q0_"
   },
   "source": [
    "### *Additional Corrections"
   ]
  },
  {
   "cell_type": "code",
   "execution_count": 16,
   "metadata": {
    "id": "iZ1avpA_0q0_",
    "trusted": true
   },
   "outputs": [
    {
     "name": "stdout",
     "output_type": "stream",
     "text": [
      "0      9.0\n",
      "1     14.0\n",
      "2     15.0\n",
      "3      6.0\n",
      "4      5.0\n",
      "5      3.0\n",
      "6      6.0\n",
      "7     15.0\n",
      "8      6.0\n",
      "9      5.0\n",
      "10     5.0\n",
      "11    13.0\n",
      "12     2.0\n",
      "13     4.0\n",
      "14    10.0\n",
      "Name: duration, dtype: float64\n",
      "Numero de valores duplicados: 0\n",
      "Numero de valores ausentes: id           0\n",
      "user_id      0\n",
      "call_date    0\n",
      "duration     0\n",
      "dtype: int64\n"
     ]
    }
   ],
   "source": [
    "# In order to have the exaxt duration in minutes, it was converted the 'duration' column have a better representation\n",
    "# the fraction of minutes is extracted (decimal) and rounds up or down.\n",
    "calls_df['duration'] = np.ceil(calls_df['duration'])\n",
    "print(calls_df['duration'].head(15))\n",
    "# Checking for missing or duplicated values\n",
    "print(\"Numero de valores duplicados:\", calls_df.duplicated().sum())\n",
    "print(\"Numero de valores ausentes:\", calls_df.isna().sum())"
   ]
  },
  {
   "cell_type": "markdown",
   "metadata": {
    "id": "mOUZSi180q0_"
   },
   "source": [
    "### Messages"
   ]
  },
  {
   "cell_type": "code",
   "execution_count": 17,
   "metadata": {
    "id": "R-bYJpdV0q1A",
    "trusted": true
   },
   "outputs": [
    {
     "name": "stdout",
     "output_type": "stream",
     "text": [
      "<class 'pandas.core.frame.DataFrame'>\n",
      "RangeIndex: 76051 entries, 0 to 76050\n",
      "Data columns (total 3 columns):\n",
      " #   Column        Non-Null Count  Dtype \n",
      "---  ------        --------------  ----- \n",
      " 0   id            76051 non-null  object\n",
      " 1   user_id       76051 non-null  int64 \n",
      " 2   message_date  76051 non-null  object\n",
      "dtypes: int64(1), object(2)\n",
      "memory usage: 1.7+ MB\n"
     ]
    }
   ],
   "source": [
    "# Print general/summary information about the messages DataFrame\n",
    "messages_df.info()"
   ]
  },
  {
   "cell_type": "code",
   "execution_count": 18,
   "metadata": {
    "id": "mCEl2iGE0q1A",
    "trusted": true
   },
   "outputs": [
    {
     "name": "stdout",
     "output_type": "stream",
     "text": [
      "         id  user_id message_date\n",
      "0  1000_125     1000   2018-12-27\n",
      "1  1000_160     1000   2018-12-31\n",
      "2  1000_223     1000   2018-12-31\n",
      "3  1000_251     1000   2018-12-27\n",
      "4  1000_255     1000   2018-12-26\n",
      "5  1000_346     1000   2018-12-29\n",
      "6  1000_386     1000   2018-12-30\n",
      "7  1000_413     1000   2018-12-31\n",
      "8  1000_502     1000   2018-12-27\n",
      "9  1000_525     1000   2018-12-28\n"
     ]
    }
   ],
   "source": [
    "# Print a sample of the data for the messages\n",
    "print(messages_df.head(10))"
   ]
  },
  {
   "cell_type": "markdown",
   "metadata": {
    "id": "04xDj7KH0q1A"
   },
   "source": [
    "NOTE: The data type in the 'call_date' column can be converted to 'datetime'. No duplicate or missing values were found."
   ]
  },
  {
   "cell_type": "markdown",
   "metadata": {
    "id": "Sprfak900q1B"
   },
   "source": [
    "### Data Correction"
   ]
  },
  {
   "cell_type": "markdown",
   "metadata": {
    "id": "eGw7d9j10q1B"
   },
   "source": []
  },
  {
   "cell_type": "code",
   "execution_count": 19,
   "metadata": {
    "id": "vsllvkoa0q1B",
    "trusted": true
   },
   "outputs": [
    {
     "name": "stdout",
     "output_type": "stream",
     "text": [
      "datetime64[ns]\n"
     ]
    }
   ],
   "source": [
    "#From 'object' data to 'datatime' format\n",
    "messages_df['message_date'] = pd.to_datetime(messages_df['message_date'], format = '%Y-%m-%d')\n",
    "print(messages_df['message_date'].dtype)"
   ]
  },
  {
   "cell_type": "markdown",
   "metadata": {
    "id": "HvLid7iD0q1B"
   },
   "source": [
    "### *Additional Corrections"
   ]
  },
  {
   "cell_type": "markdown",
   "metadata": {
    "id": "8nhPFKIe0q1C"
   },
   "source": []
  },
  {
   "cell_type": "code",
   "execution_count": 20,
   "metadata": {
    "id": "zYEXZac10q1C",
    "trusted": true
   },
   "outputs": [
    {
     "name": "stdout",
     "output_type": "stream",
     "text": [
      "Numero de valores duplicados: 0\n",
      "Numero de valores ausentes: id              0\n",
      "user_id         0\n",
      "message_date    0\n",
      "dtype: int64\n"
     ]
    }
   ],
   "source": [
    "print(\"Numero de valores duplicados:\", messages_df.duplicated().sum())\n",
    "print(\"Numero de valores ausentes:\", messages_df.isna().sum())"
   ]
  },
  {
   "cell_type": "markdown",
   "metadata": {
    "id": "bStkaxn40q1C"
   },
   "source": [
    "### Internet"
   ]
  },
  {
   "cell_type": "code",
   "execution_count": 21,
   "metadata": {
    "id": "e-Uz5qyn0q1C",
    "trusted": true
   },
   "outputs": [
    {
     "name": "stdout",
     "output_type": "stream",
     "text": [
      "<class 'pandas.core.frame.DataFrame'>\n",
      "RangeIndex: 104825 entries, 0 to 104824\n",
      "Data columns (total 4 columns):\n",
      " #   Column        Non-Null Count   Dtype  \n",
      "---  ------        --------------   -----  \n",
      " 0   id            104825 non-null  object \n",
      " 1   user_id       104825 non-null  int64  \n",
      " 2   session_date  104825 non-null  object \n",
      " 3   mb_used       104825 non-null  float64\n",
      "dtypes: float64(1), int64(1), object(2)\n",
      "memory usage: 3.2+ MB\n"
     ]
    }
   ],
   "source": [
    "# Print general/summary information about the internet DataFrame\n",
    "internet_df.info()"
   ]
  },
  {
   "cell_type": "code",
   "execution_count": 22,
   "metadata": {
    "id": "9r3x_XLw0q1C",
    "trusted": true
   },
   "outputs": [
    {
     "name": "stdout",
     "output_type": "stream",
     "text": [
      "         id  user_id session_date  mb_used\n",
      "0   1000_13     1000   2018-12-29    89.86\n",
      "1  1000_204     1000   2018-12-31     0.00\n",
      "2  1000_379     1000   2018-12-28   660.40\n",
      "3  1000_413     1000   2018-12-26   270.99\n",
      "4  1000_442     1000   2018-12-27   880.22\n",
      "5    1001_0     1001   2018-08-24   284.68\n",
      "6    1001_3     1001   2018-12-09   656.04\n",
      "7    1001_4     1001   2018-11-04    16.97\n",
      "8   1001_10     1001   2018-11-27   135.18\n",
      "9   1001_15     1001   2018-12-13   761.92\n"
     ]
    }
   ],
   "source": [
    "# Print a sample of the data for internet traffic\n",
    "print(internet_df.head(10))"
   ]
  },
  {
   "cell_type": "markdown",
   "metadata": {
    "id": "EzOG5ik30q1D"
   },
   "source": [
    "NOTA: The data type in the 'call_date' column can be converted to 'datetime'. No duplicate or missing values were found."
   ]
  },
  {
   "cell_type": "markdown",
   "metadata": {
    "id": "yA0tkPFg0q1D"
   },
   "source": [
    "### Data Corrections"
   ]
  },
  {
   "cell_type": "code",
   "execution_count": 23,
   "metadata": {
    "id": "zVeanzdd0q1E",
    "trusted": true
   },
   "outputs": [
    {
     "name": "stdout",
     "output_type": "stream",
     "text": [
      "datetime64[ns]\n"
     ]
    }
   ],
   "source": [
    "#From 'object' data to 'datatime' format\n",
    "internet_df['session_date'] = pd.to_datetime(internet_df['session_date'], format = '%Y-%m-%d')\n",
    "print(internet_df['session_date'].dtype)"
   ]
  },
  {
   "cell_type": "markdown",
   "metadata": {
    "id": "e8_mLF4a0q1E"
   },
   "source": [
    "### *Additional Corrections"
   ]
  },
  {
   "cell_type": "code",
   "execution_count": 24,
   "metadata": {
    "id": "ESiYPIEK0q1E",
    "trusted": true
   },
   "outputs": [
    {
     "name": "stdout",
     "output_type": "stream",
     "text": [
      "Numero de valores duplicados: 0\n",
      "Numero de valores ausentes: id              0\n",
      "user_id         0\n",
      "session_date    0\n",
      "mb_used         0\n",
      "dtype: int64\n"
     ]
    }
   ],
   "source": [
    "print(\"Numero de valores duplicados:\", internet_df.duplicated().sum())\n",
    "print(\"Numero de valores ausentes:\", internet_df.isna().sum())"
   ]
  },
  {
   "cell_type": "markdown",
   "metadata": {
    "id": "3UA2cqIW0q1E"
   },
   "source": [
    "## Study the conditions of the plans"
   ]
  },
  {
   "cell_type": "code",
   "execution_count": 25,
   "metadata": {
    "id": "i409op8p0q1F",
    "trusted": true
   },
   "outputs": [
    {
     "name": "stdout",
     "output_type": "stream",
     "text": [
      "<class 'pandas.core.frame.DataFrame'>\n",
      "RangeIndex: 2 entries, 0 to 1\n",
      "Data columns (total 8 columns):\n",
      " #   Column                 Non-Null Count  Dtype  \n",
      "---  ------                 --------------  -----  \n",
      " 0   messages_included      2 non-null      int64  \n",
      " 1   mb_per_month_included  2 non-null      float64\n",
      " 2   minutes_included       2 non-null      int64  \n",
      " 3   usd_monthly_pay        2 non-null      int64  \n",
      " 4   usd_per_gb             2 non-null      int64  \n",
      " 5   usd_per_message        2 non-null      float64\n",
      " 6   usd_per_minute         2 non-null      float64\n",
      " 7   plan_name              2 non-null      object \n",
      "dtypes: float64(3), int64(4), object(1)\n",
      "memory usage: 260.0+ bytes\n"
     ]
    }
   ],
   "source": [
    "# Print the conditions of the plan and make sure you understand them clearly\n",
    "plans_df.info()"
   ]
  },
  {
   "cell_type": "markdown",
   "metadata": {
    "id": "hMR1tP5d0q1F"
   },
   "source": [
    "## Add data per user\n"
   ]
  },
  {
   "cell_type": "code",
   "execution_count": 26,
   "metadata": {
    "id": "A332cedB0q1G",
    "trusted": true
   },
   "outputs": [
    {
     "name": "stdout",
     "output_type": "stream",
     "text": [
      "      user_id  month  number_of_calls\n",
      "0        1000     12               16\n",
      "1        1001      8               27\n",
      "2        1001      9               49\n",
      "3        1001     10               65\n",
      "4        1001     11               64\n",
      "...       ...    ...              ...\n",
      "2253     1498     12               39\n",
      "2254     1499      9               41\n",
      "2255     1499     10               53\n",
      "2256     1499     11               45\n",
      "2257     1499     12               65\n",
      "\n",
      "[2258 rows x 3 columns]\n"
     ]
    }
   ],
   "source": [
    "# Calculate the number of calls made by each user per month. Save the result.\n",
    "calls_df['month'] = calls_df['call_date'].dt.month # Extract the month from 'call_date'\n",
    "monthly_calls_per_user = calls_df.groupby(['user_id', 'month'])['id'].count().reset_index() # Grouped by 'user_id' and 'month'\n",
    "monthly_calls_per_user.columns = ['user_id', 'month', 'number_of_calls'] # Rename\n",
    "print(monthly_calls_per_user)"
   ]
  },
  {
   "cell_type": "code",
   "execution_count": 27,
   "metadata": {
    "id": "aw2cmuql0q1G",
    "trusted": true
   },
   "outputs": [
    {
     "name": "stdout",
     "output_type": "stream",
     "text": [
      "      user_id  month  minutes\n",
      "0        1000     12    124.0\n",
      "1        1001      8    182.0\n",
      "2        1001      9    315.0\n",
      "3        1001     10    393.0\n",
      "4        1001     11    426.0\n",
      "...       ...    ...      ...\n",
      "2253     1498     12    339.0\n",
      "2254     1499      9    346.0\n",
      "2255     1499     10    385.0\n",
      "2256     1499     11    308.0\n",
      "2257     1499     12    496.0\n",
      "\n",
      "[2258 rows x 3 columns]\n"
     ]
    }
   ],
   "source": [
    "# Calculate the number of minutes used by each user per month. Save the result.\n",
    "min_used_monthly = calls_df.groupby(['user_id', 'month'])['duration'].sum().reset_index()\n",
    "# Grouped by 'user_id' and 'month', and then sum the number of minutes per user\n",
    "min_used_monthly.columns = ['user_id', 'month', 'minutes'] # Rename\n",
    "print(min_used_monthly)"
   ]
  },
  {
   "cell_type": "code",
   "execution_count": 28,
   "metadata": {
    "id": "CcQvNHn60q1G",
    "trusted": true
   },
   "outputs": [
    {
     "name": "stdout",
     "output_type": "stream",
     "text": [
      "      user_id  month  number_messages\n",
      "0        1000     12               11\n",
      "1        1001      8               30\n",
      "2        1001      9               44\n",
      "3        1001     10               53\n",
      "4        1001     11               36\n",
      "...       ...    ...              ...\n",
      "1801     1496      9               21\n",
      "1802     1496     10               18\n",
      "1803     1496     11               13\n",
      "1804     1496     12               11\n",
      "1805     1497     12               50\n",
      "\n",
      "[1806 rows x 3 columns]\n"
     ]
    }
   ],
   "source": [
    "# Calculate the number of messages sent by each user per month. Save the result.\n",
    "messages_df['month'] = messages_df['message_date'].dt.month # Extract the month from 'c_date' from 'message_df'\n",
    "sms_send_monthly = messages_df.groupby(['user_id', 'month'])['id'].count().reset_index()\n",
    "# Grouped by 'user_id' and 'month', and then count the number of messages per user\n",
    "sms_send_monthly.columns = ['user_id', 'month', 'number_messages'] # Rename\n",
    "print(sms_send_monthly)"
   ]
  },
  {
   "cell_type": "code",
   "execution_count": 29,
   "metadata": {
    "id": "H1AqN2eG0q1H",
    "trusted": true
   },
   "outputs": [
    {
     "name": "stdout",
     "output_type": "stream",
     "text": [
      "      user_id  month  mb_used\n",
      "0        1000     12      2.0\n",
      "1        1001      8      7.0\n",
      "2        1001      9     14.0\n",
      "3        1001     10     22.0\n",
      "4        1001     11     19.0\n",
      "...       ...    ...      ...\n",
      "2272     1498     12     23.0\n",
      "2273     1499      9     13.0\n",
      "2274     1499     10     20.0\n",
      "2275     1499     11     17.0\n",
      "2276     1499     12     22.0\n",
      "\n",
      "[2277 rows x 3 columns]\n"
     ]
    }
   ],
   "source": [
    "# Calculate the volume of Internet traffic used by each user per month. Save the result.\n",
    "internet_df['month'] = internet_df['session_date'].dt.month # Extract the month from 'session_date' from 'internet_df'\n",
    "internet_volume_monthly = internet_df.groupby(['user_id', 'month'])['mb_used'].sum().reset_index()\n",
    "internet_volume_monthly['mb_used'] = internet_volume_monthly['mb_used'] / 1024 # Convert mb to gb\n",
    "internet_volume_monthly['mb_used'] = np.ceil(internet_volume_monthly['mb_used']) # Rounded\n",
    "\n",
    "# Grouped by 'user_id' and 'month', and sum the volume of mb used\n",
    "internet_volume_monthly.columns = ['user_id', 'month', 'mb_used'] # Rename\n",
    "print(internet_volume_monthly)"
   ]
  },
  {
   "cell_type": "code",
   "execution_count": 30,
   "metadata": {
    "id": "FW99ykyf0q1H",
    "trusted": true
   },
   "outputs": [
    {
     "name": "stdout",
     "output_type": "stream",
     "text": [
      "      user_id  month  number_of_calls  minutes  number_messages  mb_used\n",
      "0        1000     12               16    124.0               11      2.0\n",
      "1        1001      8               27    182.0               30      7.0\n",
      "2        1001      9               49    315.0               44     14.0\n",
      "3        1001     10               65    393.0               53     22.0\n",
      "4        1001     11               64    426.0               36     19.0\n",
      "...       ...    ...              ...      ...              ...      ...\n",
      "1754     1496      9               52    414.0               21     17.0\n",
      "1755     1496     10               46    317.0               18     14.0\n",
      "1756     1496     11               39    308.0               13      9.0\n",
      "1757     1496     12               40    294.0               11     17.0\n",
      "1758     1497     12               54    300.0               50     11.0\n",
      "\n",
      "[1759 rows x 6 columns]\n"
     ]
    }
   ],
   "source": [
    "# Merge the call, minutes, messages, and Internet data based on user_id and month\n",
    "# 'monthly_calls_per_user', 'min_used_monthly', 'sms_send_monthly', 'internet_volume_monthly' \n",
    "user_info_monthly_0 = monthly_calls_per_user.merge(min_used_monthly)\n",
    "user_info_monthly_1 = user_info_monthly_0.merge(sms_send_monthly)\n",
    "user_info_monthly_2 = user_info_monthly_1.merge(internet_volume_monthly) # Merge df x df\n",
    "print(user_info_monthly_2)"
   ]
  },
  {
   "cell_type": "code",
   "execution_count": 31,
   "metadata": {
    "id": "0dNOXHag0q1H",
    "trusted": true
   },
   "outputs": [
    {
     "name": "stdout",
     "output_type": "stream",
     "text": [
      "    user_id  month  number_of_calls  minutes  number_messages  mb_used  \\\n",
      "0      1000     12               16    124.0               11      2.0   \n",
      "1      1001      8               27    182.0               30      7.0   \n",
      "2      1001      9               49    315.0               44     14.0   \n",
      "3      1001     10               65    393.0               53     22.0   \n",
      "4      1001     11               64    426.0               36     19.0   \n",
      "5      1001     12               56    412.0               44     19.0   \n",
      "6      1002     10               11     59.0               15      7.0   \n",
      "7      1002     11               55    386.0               32     19.0   \n",
      "8      1002     12               47    384.0               41     15.0   \n",
      "9      1003     12              149   1104.0               50     27.0   \n",
      "10     1004      5               21    193.0                7      7.0   \n",
      "11     1004      6               44    275.0               18     21.0   \n",
      "12     1004      7               49    381.0               26     24.0   \n",
      "13     1004      8               49    354.0               25     28.0   \n",
      "14     1004      9               42    301.0               21     19.0   \n",
      "\n",
      "        plan  \n",
      "0   ultimate  \n",
      "1       surf  \n",
      "2       surf  \n",
      "3       surf  \n",
      "4       surf  \n",
      "5       surf  \n",
      "6       surf  \n",
      "7       surf  \n",
      "8       surf  \n",
      "9       surf  \n",
      "10      surf  \n",
      "11      surf  \n",
      "12      surf  \n",
      "13      surf  \n",
      "14      surf  \n"
     ]
    }
   ],
   "source": [
    "# Add the plan information\n",
    "user_info_monthly_3 = user_info_monthly_2.merge(users_df[['user_id', 'plan']])\n",
    "print(user_info_monthly_3.head(15))"
   ]
  },
  {
   "cell_type": "code",
   "execution_count": 32,
   "metadata": {
    "id": "5FGCf_c60q1I",
    "trusted": true
   },
   "outputs": [
    {
     "name": "stdout",
     "output_type": "stream",
     "text": [
      "    user_id  month  number_of_calls  minutes  number_messages  mb_used  \\\n",
      "0      1000     12               16    124.0               11      2.0   \n",
      "1      1001      8               27    182.0               30      7.0   \n",
      "2      1001      9               49    315.0               44     14.0   \n",
      "3      1001     10               65    393.0               53     22.0   \n",
      "4      1001     11               64    426.0               36     19.0   \n",
      "5      1001     12               56    412.0               44     19.0   \n",
      "6      1002     10               11     59.0               15      7.0   \n",
      "7      1002     11               55    386.0               32     19.0   \n",
      "8      1002     12               47    384.0               41     15.0   \n",
      "9      1003     12              149   1104.0               50     27.0   \n",
      "10     1004      5               21    193.0                7      7.0   \n",
      "11     1004      6               44    275.0               18     21.0   \n",
      "12     1004      7               49    381.0               26     24.0   \n",
      "13     1004      8               49    354.0               25     28.0   \n",
      "14     1004      9               42    301.0               21     19.0   \n",
      "\n",
      "        plan  monthly_income  \n",
      "0   ultimate        70.00000  \n",
      "1       surf        20.00000  \n",
      "2       surf        20.00000  \n",
      "3       surf        88.61071  \n",
      "4       surf        58.52071  \n",
      "5       surf        58.52071  \n",
      "6       surf        20.00000  \n",
      "7       surf        58.52071  \n",
      "8       surf        20.00000  \n",
      "9       surf       156.64071  \n",
      "10      surf        20.00000  \n",
      "11      surf        78.52071  \n",
      "12      surf       108.52071  \n",
      "13      surf       148.52071  \n",
      "14      surf        58.52071  \n"
     ]
    }
   ],
   "source": [
    "# Calculate the monthly revenue for each user\n",
    "def calculate_monthly_income(row):\n",
    "    plan_name = row['plan']\n",
    "    minutes = row['minutes']\n",
    "    messages = row['number_messages']\n",
    "    mb_used = row['mb_used']\n",
    "    \n",
    "    total_cost = 0 \n",
    "\n",
    "    if plan_name == 'surf':\n",
    "        total_cost += 20 # 'usd_monthly_pay' for surf plan\n",
    "        if minutes > 500:\n",
    "            total_cost += (minutes - 500) * 0.03\n",
    "        if messages > 50:\n",
    "            total_cost += (messages - 50) * 0.03\n",
    "        if mb_used > plans_df['mb_per_month_included'][0]: #'mb_used' & mb_per_month_included' already in GB\n",
    "            total_cost += (mb_used - plans_df['mb_per_month_included'][0]) * 10\n",
    "    elif plan_name == 'ultimate':\n",
    "        total_cost += 70 # 'usd_monthly_pay' for ultimate plan\n",
    "        if minutes > 3000:\n",
    "            total_cost += (minutes - 3000) * 0.01\n",
    "        if messages > 1000:\n",
    "            total_cost += (messages - 1000) * 0.01\n",
    "        if mb_used > plans_df['mb_per_month_included'][1]: # Already converted to GB\n",
    "            total_cost += (mb_used - plans_df['mb_per_month_included'][1]) * 7\n",
    "\n",
    "    return total_cost\n",
    "\n",
    "user_info_monthly_3['monthly_income'] = user_info_monthly_3.apply(calculate_monthly_income, axis = 1)# New column in the user data df\n",
    "print(user_info_monthly_3.head(15))"
   ]
  },
  {
   "cell_type": "markdown",
   "metadata": {
    "id": "-jtyHzJb0q1I"
   },
   "source": [
    "## Study user behavior"
   ]
  },
  {
   "cell_type": "markdown",
   "metadata": {
    "id": "AxU3Y0N70q1J"
   },
   "source": [
    "Calculate some descriptive statistics for the aggregated and merged data that are useful and provide an overall picture captured by the data. Draw helpful graphs to facilitate understanding. Since the main task is to compare the plans and decide which is more profitable, the statistics and graphs should be calculated by plan."
   ]
  },
  {
   "cell_type": "markdown",
   "metadata": {
    "id": "vtW4CJEe0q1J"
   },
   "source": [
    "### Calls"
   ]
  },
  {
   "cell_type": "code",
   "execution_count": 33,
   "metadata": {
    "id": "Jf5v5--k0q1J",
    "trusted": true
   },
   "outputs": [
    {
     "data": {
      "image/png": "[encoded data removed]",
      "text/plain": [
       "<Figure size 1200x600 with 1 Axes>"
      ]
     },
     "metadata": {},
     "output_type": "display_data"
    }
   ],
   "source": [
    "# Compare the average call duration for each plan and for each month. Plot a bar chart to visualize it.\n",
    "mean_calls = calls_df.groupby(['user_id', 'month'])['duration'].mean().reset_index()\n",
    "mean_calls_1 = mean_calls.merge(users_df[['user_id', 'plan']])\n",
    "\n",
    "pivot_data = mean_calls_1.pivot_table(index = 'month', columns = 'plan', values = 'duration')\n",
    "\n",
    "# Plot the bar chart\n",
    "pivot_data.plot(kind = 'bar', figsize = (12, 6), grid = True)\n",
    "plt.title('Average call duration by plan and month')\n",
    "plt.xlabel('Month')\n",
    "plt.ylabel('Average duration (minutes)')\n",
    "plt.xticks(rotation = 0)\n",
    "plt.legend(title = 'Plan')\n",
    "plt.show()"
   ]
  },
  {
   "cell_type": "code",
   "execution_count": 34,
   "metadata": {
    "id": "QoLqW1S_0q1J",
    "trusted": true
   },
   "outputs": [
    {
     "data": {
      "image/png": "[encoded data removed]",
      "text/plain": [
       "<Figure size 640x480 with 1 Axes>"
      ]
     },
     "metadata": {},
     "output_type": "display_data"
    }
   ],
   "source": [
    "# Compare the monthly number of minutes used by users of each plan. Plot a histogram.\n",
    "surf_users = user_info_monthly_3[user_info_monthly_3['plan'] == 'surf'] # filter data for each plan\n",
    "ultimate_users = user_info_monthly_3[user_info_monthly_3['plan'] == 'ultimate']\n",
    "\n",
    "plt.hist(surf_users['minutes'], bins = 20, alpha = 0.5, label = 'surf')\n",
    "plt.hist(ultimate_users['minutes'], bins = 20, alpha = 0.5, label = 'ultimate')\n",
    "plt.title('Monthly minutes used by plan')\n",
    "plt.xlabel('Minutes used')\n",
    "plt.ylabel('Frequency')\n",
    "plt.legend()\n",
    "plt.show()"
   ]
  },
  {
   "cell_type": "code",
   "execution_count": 35,
   "metadata": {
    "id": "oSndbAnt0q1K",
    "trusted": true
   },
   "outputs": [
    {
     "name": "stdout",
     "output_type": "stream",
     "text": [
      "               mean_duration  variance_duration\n",
      "user_id month                                  \n",
      "1000    12          7.750000          18.866667\n",
      "1001    8           6.740741          22.584046\n",
      "        9           6.428571          29.208333\n",
      "        10          6.046154          28.825962\n",
      "        11          6.656250          42.260913\n",
      "...                      ...                ...\n",
      "1498    12          8.692308          37.481781\n",
      "1499    9           8.439024          33.202439\n",
      "        10          7.264151          48.236575\n",
      "        11          6.844444          29.088889\n",
      "        12          7.630769          35.924038\n",
      "\n",
      "[2258 rows x 2 columns]\n"
     ]
    }
   ],
   "source": [
    "# Calculate the mean and variance of the monthly call duration.\n",
    "monthly_call_stats = calls_df.groupby(['user_id', 'month'])['duration'].agg(['mean', 'var']) # Group data by user_id and month\n",
    "monthly_call_stats = monthly_call_stats.rename(columns = {'mean': 'mean_duration', 'var': 'variance_duration'}) # Rename\n",
    "print(monthly_call_stats)"
   ]
  },
  {
   "cell_type": "code",
   "execution_count": 36,
   "metadata": {
    "id": "nZzoRUKc0q1K",
    "trusted": true
   },
   "outputs": [
    {
     "name": "stderr",
     "output_type": "stream",
     "text": [
      "C:\\Users\\mauro\\AppData\\Local\\Temp\\ipykernel_2936\\572283011.py:6: MatplotlibDeprecationWarning: The 'labels' parameter of boxplot() has been renamed 'tick_labels' since Matplotlib 3.9; support for the old name will be dropped in 3.11.\n",
      "  plt.boxplot([merged_data[merged_data['plan'] == 'surf']['mean_duration'],\n"
     ]
    },
    {
     "data": {
      "image/png": "[encoded data removed]",
      "text/plain": [
       "<Figure size 800x600 with 1 Axes>"
      ]
     },
     "metadata": {},
     "output_type": "display_data"
    }
   ],
   "source": [
    "# Plot a box plot to visualize the distribution of the monthly call duration.\n",
    "monthly_call_stats = monthly_call_stats.reset_index() # Reset index and merge with user data to include 'plan'\n",
    "merged_data = pd.merge(monthly_call_stats, users_df[['user_id', 'plan']], on = 'user_id', how = 'left')\n",
    "\n",
    "plt.figure(figsize=(8, 6))\n",
    "plt.boxplot([merged_data[merged_data['plan'] == 'surf']['mean_duration'],\n",
    "             merged_data[merged_data['plan'] == 'ultimate']['mean_duration']],\n",
    "            labels=['Surf', 'Ultimate'])\n",
    "plt.title('Distribution of monthly call durations by plan')\n",
    "plt.ylabel('Mean (duration in minutes)')\n",
    "plt.show()"
   ]
  },
  {
   "cell_type": "markdown",
   "metadata": {
    "id": "r627zBO50q1K"
   },
   "source": [
    "In conclusion, user behavior regarding calls does vary. 'Ultimate' users make a higher number of calls but of shorter duration (likely due to their greater available call time), whereas 'Surf' users make fewer calls but with longer duration."
   ]
  },
  {
   "cell_type": "markdown",
   "metadata": {
    "id": "8idKy8Wh0q1L"
   },
   "source": [
    "### Messages"
   ]
  },
  {
   "cell_type": "code",
   "execution_count": 37,
   "metadata": {
    "id": "NXLxiTit0q1L",
    "trusted": true
   },
   "outputs": [
    {
     "data": {
      "image/png": "[encoded data removed]",
      "text/plain": [
       "<Figure size 640x480 with 1 Axes>"
      ]
     },
     "metadata": {},
     "output_type": "display_data"
    }
   ],
   "source": [
    "# Compare the number of messages that users of each plan tend to send each month.\n",
    "plt.hist(surf_users['number_messages'], bins = 20, color = 'red', alpha = 0.5, label = 'surf') # Filtered data used before (surf_users & ultimate users)\n",
    "plt.hist(ultimate_users['number_messages'], bins = 20, color = 'blue', alpha = 0.5, label = 'ultimate')\n",
    "plt.title('Monthly messages used by plan')\n",
    "plt.xlabel('Number of messages')\n",
    "plt.ylabel('Frequency')\n",
    "plt.legend()\n",
    "plt.show()"
   ]
  },
  {
   "cell_type": "code",
   "execution_count": 38,
   "metadata": {
    "id": "GRI_R7xF0q1L",
    "trusted": true
   },
   "outputs": [
    {
     "name": "stdout",
     "output_type": "stream",
     "text": [
      "count    1180.000000\n",
      "mean       39.489831\n",
      "std        32.314360\n",
      "min         1.000000\n",
      "25%        16.000000\n",
      "50%        32.000000\n",
      "75%        53.000000\n",
      "max       266.000000\n",
      "Name: number_messages, dtype: float64\n",
      "\n",
      "count    579.000000\n",
      "mean      46.455959\n",
      "std       32.930135\n",
      "min        1.000000\n",
      "25%       21.000000\n",
      "50%       41.000000\n",
      "75%       66.000000\n",
      "max      166.000000\n",
      "Name: number_messages, dtype: float64\n"
     ]
    }
   ],
   "source": [
    "print(surf_users['number_messages'].describe())\n",
    "print()\n",
    "print(ultimate_users['number_messages'].describe())"
   ]
  },
  {
   "cell_type": "markdown",
   "metadata": {
    "id": "390SSL480q1M"
   },
   "source": [
    "In conclusion, the histogram shows a difference in user behavior regarding messages. The analysis indicates that users on the 'Ultimate' plan send more messages on average than those on the 'Surf' plan (likely due to the higher number of messages included in their plan). On the other hand, 'Surf' users tend to be more moderate in their usage (probably to avoid additional charges)."
   ]
  },
  {
   "cell_type": "markdown",
   "metadata": {
    "id": "42YSypXz0q1M"
   },
   "source": [
    "### Internet"
   ]
  },
  {
   "cell_type": "code",
   "execution_count": 39,
   "metadata": {
    "id": "lSuKPtjh0q1M",
    "trusted": true
   },
   "outputs": [
    {
     "data": {
      "image/png": "[encoded data removed]",
      "text/plain": [
       "<Figure size 640x480 with 1 Axes>"
      ]
     },
     "metadata": {},
     "output_type": "display_data"
    }
   ],
   "source": [
    "# Compare the amount of Internet traffic consumed by users by plan.\n",
    "plt.hist(surf_users['mb_used'], bins = 20, alpha = 0.5, label = 'surf') # Filtered data used before (surf_users & ultimate users)\n",
    "plt.hist(ultimate_users['mb_used'], bins = 20, alpha = 0.5, label = 'ultimate')\n",
    "plt.title('Internet used by plan')\n",
    "plt.xlabel('Internet traffic (mb)')\n",
    "plt.ylabel('Frequency')\n",
    "plt.legend()\n",
    "plt.show()"
   ]
  },
  {
   "cell_type": "code",
   "execution_count": 40,
   "metadata": {
    "id": "wnh8jYXi0q1N",
    "trusted": true
   },
   "outputs": [
    {
     "data": {
      "text/plain": [
       "count    1180.000000\n",
       "mean       16.752542\n",
       "std         7.550662\n",
       "min         1.000000\n",
       "25%        13.000000\n",
       "50%        17.000000\n",
       "75%        21.000000\n",
       "max        70.000000\n",
       "Name: mb_used, dtype: float64"
      ]
     },
     "execution_count": 40,
     "metadata": {},
     "output_type": "execute_result"
    }
   ],
   "source": [
    "surf_users['mb_used'].describe()"
   ]
  },
  {
   "cell_type": "code",
   "execution_count": 41,
   "metadata": {
    "id": "5VlyJ9ry0q1N",
    "trusted": true
   },
   "outputs": [
    {
     "data": {
      "text/plain": [
       "count    579.000000\n",
       "mean      17.343696\n",
       "std        7.494935\n",
       "min        1.000000\n",
       "25%       13.000000\n",
       "50%       17.000000\n",
       "75%       21.000000\n",
       "max       46.000000\n",
       "Name: mb_used, dtype: float64"
      ]
     },
     "execution_count": 41,
     "metadata": {},
     "output_type": "execute_result"
    }
   ],
   "source": [
    "ultimate_users['mb_used'].describe()"
   ]
  },
  {
   "cell_type": "markdown",
   "metadata": {
    "id": "UN9zwuMP0q1N"
   },
   "source": [
    "In conclusion, the graph and statistics show that users of the 'Surf' plan, despite having a lower data limit, tend to consume a higher amount of internet MB more frequently than users of the 'Ultimate' plan."
   ]
  },
  {
   "cell_type": "markdown",
   "metadata": {
    "id": "tCijq3260q1N"
   },
   "source": [
    "## Revenue"
   ]
  },
  {
   "cell_type": "code",
   "execution_count": 42,
   "metadata": {
    "id": "tz-dq_V00q1O",
    "trusted": true
   },
   "outputs": [
    {
     "data": {
      "image/png": "[encoded data removed]",
      "text/plain": [
       "<Figure size 640x480 with 1 Axes>"
      ]
     },
     "metadata": {},
     "output_type": "display_data"
    }
   ],
   "source": [
    "plt.hist(surf_users['monthly_income'], bins = 10, alpha = 0.5, label = 'surf') # Filtered data used before (surf_users & ultimate users)\n",
    "plt.hist(ultimate_users['monthly_income'], alpha = 0.5, bins = 10, label = 'ultimate')\n",
    "plt.title('Monthly_income used by plan')\n",
    "plt.xlabel('Income')\n",
    "plt.ylabel('Frequency')\n",
    "plt.legend()\n",
    "plt.show()"
   ]
  },
  {
   "cell_type": "code",
   "execution_count": 43,
   "metadata": {
    "id": "0Y1v8ZUz0q1P",
    "trusted": true
   },
   "outputs": [
    {
     "data": {
      "text/plain": [
       "count    1180.000000\n",
       "mean       59.543309\n",
       "std        53.159968\n",
       "min        20.000000\n",
       "25%        20.022500\n",
       "50%        39.555710\n",
       "75%        78.753210\n",
       "max       588.890710\n",
       "Name: monthly_income, dtype: float64"
      ]
     },
     "execution_count": 43,
     "metadata": {},
     "output_type": "execute_result"
    }
   ],
   "source": [
    "surf_users['monthly_income'].describe()"
   ]
  },
  {
   "cell_type": "code",
   "execution_count": 44,
   "metadata": {
    "id": "bYmwxyVh0q1P",
    "trusted": true
   },
   "outputs": [
    {
     "data": {
      "text/plain": [
       "count    579.000000\n",
       "mean      72.130668\n",
       "std       10.639104\n",
       "min       70.000000\n",
       "25%       70.000000\n",
       "50%       70.000000\n",
       "75%       70.000000\n",
       "max      179.928994\n",
       "Name: monthly_income, dtype: float64"
      ]
     },
     "execution_count": 44,
     "metadata": {},
     "output_type": "execute_result"
    }
   ],
   "source": [
    "ultimate_users['monthly_income'].describe()"
   ]
  },
  {
   "cell_type": "markdown",
   "metadata": {
    "id": "KAFidcXZ0q1P"
   },
   "source": [
    "In conclusion, the graph and statistics show that users of the 'Surf' plan have a higher number of users who exceed the base monthly charge (and therefore tend to generate more additional charges). On the other hand, the 'Ultimate' plan has a higher and more stable base revenue (many users do not usually generate charges beyond the base fee)."
   ]
  },
  {
   "cell_type": "markdown",
   "metadata": {
    "id": "ajJ7VKeI0q1Q"
   },
   "source": [
    "## Test the statistical hypotheses."
   ]
  },
  {
   "cell_type": "markdown",
   "metadata": {
    "id": "AdXAZ-yL0q1Q"
   },
   "source": [
    "Test the hypothesis that the average revenues from users of the Ultimate and Surf calling plans are different."
   ]
  },
  {
   "cell_type": "code",
   "execution_count": 45,
   "metadata": {
    "id": "nFoPNlPq0q1R",
    "trusted": true
   },
   "outputs": [
    {
     "name": "stdout",
     "output_type": "stream",
     "text": [
      "valor p: 1.9597376215605607e-08\n",
      "We reject the null hypothesis\n"
     ]
    }
   ],
   "source": [
    "# Test the hypotheses\n",
    "# H0 = surf_users['monthly_income'] = ultimate_users['monthly_income']\n",
    "# H1 = surf_users['monthly_income'] != ultimate_users['monthly_income']\n",
    "\n",
    "alpha = 0.05 # There is a 5% probability of rejecting the null hypothesis.\n",
    "\n",
    "# Two-tailed hypothesis\n",
    "results = st.ttest_ind(surf_users['monthly_income'], ultimate_users['monthly_income'])\n",
    "\n",
    "print('valor p:', results.pvalue)\n",
    "\n",
    "if (results.pvalue < alpha):\n",
    "    print(\"We reject the null hypothesis\")\n",
    "else:\n",
    "    print(\"We cannot reject the null hypothesis.\")"
   ]
  },
  {
   "cell_type": "markdown",
   "metadata": {
    "id": "tCcAruM60q1R"
   },
   "source": [
    "Test the hypothesis that the average revenue of users from the NY-NJ area is different from that of users from other regions."
   ]
  },
  {
   "cell_type": "code",
   "execution_count": 46,
   "metadata": {
    "id": "Cqcj7wrZ0q1S",
    "trusted": true
   },
   "outputs": [
    {
     "name": "stdout",
     "output_type": "stream",
     "text": [
      "<class 'pandas.core.frame.DataFrame'>\n",
      "RangeIndex: 1759 entries, 0 to 1758\n",
      "Data columns (total 9 columns):\n",
      " #   Column           Non-Null Count  Dtype  \n",
      "---  ------           --------------  -----  \n",
      " 0   user_id          1759 non-null   int64  \n",
      " 1   month            1759 non-null   int32  \n",
      " 2   number_of_calls  1759 non-null   int64  \n",
      " 3   minutes          1759 non-null   float64\n",
      " 4   number_messages  1759 non-null   int64  \n",
      " 5   mb_used          1759 non-null   float64\n",
      " 6   plan             1759 non-null   object \n",
      " 7   monthly_income   1759 non-null   float64\n",
      " 8   city             1759 non-null   object \n",
      "dtypes: float64(3), int32(1), int64(3), object(2)\n",
      "memory usage: 116.9+ KB\n",
      "---------------------------------------------\n",
      "valor p: 0.008404475675090024\n",
      "We reject the null hypothesis.\n"
     ]
    }
   ],
   "source": [
    "# Merge 'city' column from users_df into user_info_monthly_3\n",
    "user_info_monthly_3 = pd.merge(user_info_monthly_3, users_df[['user_id', 'city']], on = 'user_id', how = 'left',suffixes = ('_x', ''))\n",
    "user_info_monthly_3.info()\n",
    "print('---' * 15)\n",
    "ny_nj_users = user_info_monthly_3[user_info_monthly_3['city'].str.contains('NY NJ')] # Filter data for NY-NJ users\n",
    "other_regions_users = user_info_monthly_3[~user_info_monthly_3['city'].str.contains('NY NJ')] # Filter data for users in other regions\n",
    "\n",
    "# Test the hypotheses\n",
    "# H0 = ny_nj_users['monthly_income'] = other_regions_users['monthly_income']\n",
    "# H1 = ny_nj_users['monthly_income'] != other_regions_users['monthly_income']\n",
    "\n",
    "alpha = 0.05\n",
    "\n",
    "# Two-tailed hypothesis\n",
    "results = st.ttest_ind(ny_nj_users['monthly_income'], other_regions_users['monthly_income'])\n",
    "print('valor p:', results.pvalue)\n",
    "\n",
    "if (results.pvalue < alpha):\n",
    "    print(\"We reject the null hypothesis.\")\n",
    "else:\n",
    "    print(\"We cannot reject the null hypothesis.\")"
   ]
  },
  {
   "cell_type": "markdown",
   "metadata": {
    "id": "bbTR8UQO0q1T"
   },
   "source": [
    "## General conclusion\n",
    "\n",
    "Two plans from the company Megaline, 'Surf' and 'Ultimate', were analyzed to determine which generates more revenue and to understand user behavior. First, the data from all DataFrames were reviewed and cleaned.\n",
    "\n",
    "It was observed that users on the 'Ultimate' plan tend to talk longer and use more internet data than those on the 'Surf' plan. Regarding messages, there are not many differences between the two groups. Many users exceed the included minutes and data, which generates additional revenue for Megaline.\n",
    "\n",
    "Although the 'Ultimate' plan has a higher monthly fee, it generates higher average revenue per user because these users tend to use more minutes and data. Meanwhile, 'Surf' users also tend to exceed their limits, resulting in additional charges as well. Statistical analysis confirms that the average revenues of both plans are different.\n",
    "\n",
    "Finally, two hypothesis tests were conducted using an independent samples t-test with a 5% significance level. The first test, comparing the revenues of users from the Surf and Ultimate plans, resulted in rejecting the null hypothesis (indicating a significant difference between the average revenues generated by the two plans). The second test, comparing the average revenues of users from the NY-NJ area with those from other regions, also resulted in rejecting the null hypothesis (showing a significant difference in revenues between users from NY-NJ and users from other regions)."
   ]
  }
 ],
 "metadata": {
  "ExecuteTimeLog": [
   {
    "duration": 828,
    "start_time": "2021-11-16T09:21:11.304Z"
   },
   {
    "duration": 893,
    "start_time": "2021-11-16T09:21:17.728Z"
   },
   {
    "duration": 1150,
    "start_time": "2021-11-16T09:21:29.568Z"
   },
   {
    "duration": 3,
    "start_time": "2021-11-16T09:24:14.495Z"
   },
   {
    "duration": 120,
    "start_time": "2021-11-16T09:24:46.630Z"
   },
   {
    "duration": 3,
    "start_time": "2021-11-16T09:28:27.882Z"
   },
   {
    "duration": 4,
    "start_time": "2021-11-16T09:29:54.281Z"
   },
   {
    "duration": 3,
    "start_time": "2021-11-16T09:30:45.936Z"
   },
   {
    "duration": 4,
    "start_time": "2021-11-16T09:31:06.300Z"
   },
   {
    "duration": 113,
    "start_time": "2021-11-16T09:31:37.208Z"
   },
   {
    "duration": 143,
    "start_time": "2021-11-16T09:31:48.656Z"
   },
   {
    "duration": 98,
    "start_time": "2021-11-16T09:31:55.678Z"
   },
   {
    "duration": 3,
    "start_time": "2021-11-16T09:32:08.535Z"
   },
   {
    "duration": 111,
    "start_time": "2021-11-16T09:32:10.120Z"
   },
   {
    "duration": 3,
    "start_time": "2021-11-16T09:32:15.732Z"
   },
   {
    "duration": 4,
    "start_time": "2021-11-16T09:32:29.423Z"
   },
   {
    "duration": 3,
    "start_time": "2021-11-16T10:03:03.074Z"
   },
   {
    "duration": 3,
    "start_time": "2021-11-16T10:10:01.288Z"
   },
   {
    "duration": 3,
    "start_time": "2021-11-16T10:10:46.923Z"
   },
   {
    "duration": 121,
    "start_time": "2021-11-16T10:37:46.494Z"
   },
   {
    "duration": 125,
    "start_time": "2021-11-16T10:38:20.632Z"
   },
   {
    "duration": 112,
    "start_time": "2021-11-16T10:46:53.001Z"
   },
   {
    "duration": 110,
    "start_time": "2021-11-16T10:48:25.775Z"
   },
   {
    "duration": 3,
    "start_time": "2021-11-16T10:50:18.720Z"
   },
   {
    "duration": 4,
    "start_time": "2021-11-16T10:50:37.649Z"
   },
   {
    "duration": 2,
    "start_time": "2021-11-16T10:50:51.884Z"
   },
   {
    "duration": 3,
    "start_time": "2021-11-16T10:51:56.237Z"
   },
   {
    "duration": 101,
    "start_time": "2021-11-16T10:53:13.791Z"
   },
   {
    "duration": 3,
    "start_time": "2021-11-16T10:55:59.186Z"
   },
   {
    "duration": 3,
    "start_time": "2021-11-16T10:56:10.751Z"
   },
   {
    "duration": 3,
    "start_time": "2021-11-16T10:56:49.038Z"
   },
   {
    "duration": 3,
    "start_time": "2021-11-16T10:56:49.174Z"
   },
   {
    "duration": 4,
    "start_time": "2021-11-16T10:56:49.414Z"
   },
   {
    "duration": 3,
    "start_time": "2021-11-16T10:56:49.680Z"
   },
   {
    "duration": 3,
    "start_time": "2021-11-16T10:56:50.370Z"
   },
   {
    "duration": 114,
    "start_time": "2021-11-16T10:59:34.518Z"
   },
   {
    "duration": 3,
    "start_time": "2021-11-16T11:01:41.201Z"
   },
   {
    "duration": 116,
    "start_time": "2021-11-16T11:01:48.754Z"
   },
   {
    "duration": 3,
    "start_time": "2021-11-16T11:02:16.685Z"
   },
   {
    "duration": 3,
    "start_time": "2021-11-16T11:02:19.479Z"
   },
   {
    "duration": 3,
    "start_time": "2021-11-16T11:02:47.067Z"
   },
   {
    "duration": 3,
    "start_time": "2021-11-16T11:02:49.353Z"
   },
   {
    "duration": 3,
    "start_time": "2021-11-16T11:03:07.835Z"
   },
   {
    "duration": 3,
    "start_time": "2021-11-16T11:03:07.953Z"
   },
   {
    "duration": 112,
    "start_time": "2021-11-16T11:07:52.072Z"
   },
   {
    "duration": 187,
    "start_time": "2021-11-16T11:09:23.468Z"
   },
   {
    "duration": 4,
    "start_time": "2021-11-16T11:10:01.455Z"
   },
   {
    "duration": 3,
    "start_time": "2021-11-16T11:10:05.069Z"
   },
   {
    "duration": 4,
    "start_time": "2021-11-16T11:10:13.376Z"
   },
   {
    "duration": 3,
    "start_time": "2021-11-16T11:10:14.434Z"
   },
   {
    "duration": 3,
    "start_time": "2021-11-16T11:10:22.853Z"
   },
   {
    "duration": 4,
    "start_time": "2021-11-16T11:27:29.279Z"
   },
   {
    "duration": 4,
    "start_time": "2021-11-16T11:29:08.919Z"
   },
   {
    "duration": 118,
    "start_time": "2021-11-16T11:29:46.703Z"
   },
   {
    "duration": 437,
    "start_time": "2021-11-16T11:36:02.181Z"
   },
   {
    "duration": 157,
    "start_time": "2021-11-16T11:36:14.388Z"
   },
   {
    "duration": 207,
    "start_time": "2021-11-16T11:47:15.898Z"
   },
   {
    "duration": 3,
    "start_time": "2021-11-16T11:53:52.092Z"
   },
   {
    "duration": 3,
    "start_time": "2021-11-16T11:53:52.236Z"
   },
   {
    "duration": 3,
    "start_time": "2021-11-16T11:59:12.005Z"
   },
   {
    "duration": 112,
    "start_time": "2021-11-16T12:00:33.446Z"
   },
   {
    "duration": 3,
    "start_time": "2021-11-16T12:02:14.453Z"
   },
   {
    "duration": 3,
    "start_time": "2021-11-16T12:02:39.512Z"
   },
   {
    "duration": 106,
    "start_time": "2021-11-16T12:03:03.460Z"
   },
   {
    "duration": 3,
    "start_time": "2021-11-17T20:37:21.139Z"
   },
   {
    "duration": 3,
    "start_time": "2021-11-17T20:37:22.229Z"
   },
   {
    "duration": 3,
    "start_time": "2021-11-17T20:38:38.806Z"
   },
   {
    "duration": 3,
    "start_time": "2021-11-17T20:38:41.958Z"
   },
   {
    "duration": 3,
    "start_time": "2021-11-17T20:43:46.551Z"
   },
   {
    "duration": 4,
    "start_time": "2021-11-17T20:58:21.835Z"
   },
   {
    "duration": 3,
    "start_time": "2021-11-17T20:59:21.872Z"
   },
   {
    "duration": 4,
    "start_time": "2021-11-17T20:59:45.352Z"
   },
   {
    "duration": 4,
    "start_time": "2021-11-17T20:59:49.646Z"
   },
   {
    "duration": 159,
    "start_time": "2021-11-17T21:02:26.949Z"
   },
   {
    "duration": 3,
    "start_time": "2021-11-17T21:03:53.461Z"
   },
   {
    "duration": 3,
    "start_time": "2021-11-17T21:03:53.694Z"
   },
   {
    "duration": 3,
    "start_time": "2021-11-17T21:05:28.145Z"
   },
   {
    "duration": 116,
    "start_time": "2021-11-17T21:05:57.787Z"
   },
   {
    "duration": 3,
    "start_time": "2021-11-17T21:06:37.993Z"
   },
   {
    "duration": 3,
    "start_time": "2021-11-17T21:06:38.261Z"
   },
   {
    "duration": 3,
    "start_time": "2021-11-17T21:11:54.358Z"
   },
   {
    "duration": 3,
    "start_time": "2021-11-17T21:12:43.846Z"
   },
   {
    "duration": 4,
    "start_time": "2021-11-17T21:13:08.773Z"
   },
   {
    "duration": 3,
    "start_time": "2021-11-17T21:14:44.441Z"
   },
   {
    "duration": 3,
    "start_time": "2021-11-17T21:15:42.059Z"
   },
   {
    "duration": 4,
    "start_time": "2021-11-17T21:15:51.995Z"
   },
   {
    "duration": 3,
    "start_time": "2021-11-17T21:15:53.923Z"
   },
   {
    "duration": 3,
    "start_time": "2021-11-17T21:15:55.282Z"
   },
   {
    "duration": 3,
    "start_time": "2021-11-17T21:16:28.492Z"
   },
   {
    "duration": 3,
    "start_time": "2021-11-17T21:16:32.603Z"
   },
   {
    "duration": 3,
    "start_time": "2021-11-17T21:17:06.941Z"
   },
   {
    "duration": 98,
    "start_time": "2021-11-17T21:18:05.733Z"
   },
   {
    "duration": 4,
    "start_time": "2021-11-17T21:21:35.255Z"
   },
   {
    "duration": 3,
    "start_time": "2021-11-17T21:21:37.804Z"
   },
   {
    "duration": 4,
    "start_time": "2021-11-17T21:23:06.071Z"
   },
   {
    "duration": 3,
    "start_time": "2021-11-17T21:23:24.799Z"
   },
   {
    "duration": 3,
    "start_time": "2021-11-17T21:23:32.591Z"
   },
   {
    "duration": 98,
    "start_time": "2021-11-17T21:28:31.559Z"
   },
   {
    "duration": 3,
    "start_time": "2021-11-17T21:28:45.448Z"
   },
   {
    "duration": 3,
    "start_time": "2021-11-17T21:29:17.303Z"
   },
   {
    "duration": 3,
    "start_time": "2021-11-17T21:29:29.617Z"
   },
   {
    "duration": 3,
    "start_time": "2021-11-17T21:29:32.681Z"
   },
   {
    "duration": 3,
    "start_time": "2021-11-17T21:36:11.474Z"
   },
   {
    "duration": 3,
    "start_time": "2021-11-17T21:36:14.791Z"
   },
   {
    "duration": 3,
    "start_time": "2021-11-17T21:36:53.943Z"
   },
   {
    "duration": 3,
    "start_time": "2021-11-17T21:36:56.165Z"
   },
   {
    "duration": 4,
    "start_time": "2021-11-17T21:37:16.590Z"
   },
   {
    "duration": 3,
    "start_time": "2021-11-17T21:37:22.702Z"
   },
   {
    "duration": 4,
    "start_time": "2021-11-17T21:38:03.479Z"
   },
   {
    "duration": 3,
    "start_time": "2021-11-17T21:38:08.601Z"
   },
   {
    "duration": 3,
    "start_time": "2021-11-17T21:38:12.928Z"
   },
   {
    "duration": 3,
    "start_time": "2021-11-17T21:38:48.896Z"
   },
   {
    "duration": 2,
    "start_time": "2021-11-17T21:38:49.171Z"
   },
   {
    "duration": 4,
    "start_time": "2021-11-17T21:39:57.889Z"
   },
   {
    "duration": 3,
    "start_time": "2021-11-17T21:39:58.057Z"
   },
   {
    "duration": 3,
    "start_time": "2021-11-17T21:41:20.108Z"
   },
   {
    "duration": 3,
    "start_time": "2021-11-17T21:41:20.629Z"
   },
   {
    "duration": 3,
    "start_time": "2021-11-17T21:42:49.136Z"
   },
   {
    "duration": 3,
    "start_time": "2021-11-17T21:43:15.137Z"
   },
   {
    "duration": 4,
    "start_time": "2021-11-17T21:43:16.766Z"
   },
   {
    "duration": 4,
    "start_time": "2021-11-17T21:43:31.711Z"
   },
   {
    "duration": 3,
    "start_time": "2021-11-17T21:43:36.312Z"
   },
   {
    "duration": 4,
    "start_time": "2021-11-17T21:45:08.825Z"
   },
   {
    "duration": 4,
    "start_time": "2021-11-17T21:45:10.119Z"
   },
   {
    "duration": 4,
    "start_time": "2021-11-17T21:45:13.748Z"
   },
   {
    "duration": 3,
    "start_time": "2021-11-17T21:45:22.219Z"
   },
   {
    "duration": 3,
    "start_time": "2021-11-17T21:45:33.412Z"
   },
   {
    "duration": 2,
    "start_time": "2021-11-17T21:46:01.885Z"
   },
   {
    "duration": 3,
    "start_time": "2021-11-17T21:46:03.628Z"
   },
   {
    "duration": 107,
    "start_time": "2021-11-17T21:47:32.512Z"
   },
   {
    "duration": 103,
    "start_time": "2021-11-17T21:50:36.243Z"
   },
   {
    "duration": 3,
    "start_time": "2021-11-18T06:28:31.440Z"
   },
   {
    "duration": 3,
    "start_time": "2021-11-18T06:29:00.168Z"
   },
   {
    "duration": 3,
    "start_time": "2021-11-18T06:31:27.008Z"
   },
   {
    "duration": 2,
    "start_time": "2021-11-18T06:35:34.288Z"
   },
   {
    "duration": 2,
    "start_time": "2021-11-18T06:38:04.527Z"
   },
   {
    "duration": 415,
    "start_time": "2025-04-09T21:13:25.116Z"
   },
   {
    "duration": 219,
    "start_time": "2025-04-09T21:13:26.463Z"
   },
   {
    "duration": 252,
    "start_time": "2025-04-09T21:13:50.125Z"
   },
   {
    "duration": 245,
    "start_time": "2025-04-09T21:18:40.948Z"
   },
   {
    "duration": 246,
    "start_time": "2025-04-09T21:18:53.116Z"
   },
   {
    "duration": 220,
    "start_time": "2025-04-09T21:19:08.365Z"
   },
   {
    "duration": 169,
    "start_time": "2025-04-09T21:28:55.939Z"
   },
   {
    "duration": 28,
    "start_time": "2025-04-09T21:29:24.771Z"
   },
   {
    "duration": 18,
    "start_time": "2025-04-09T21:29:39.272Z"
   },
   {
    "duration": 41,
    "start_time": "2025-04-09T21:34:21.598Z"
   },
   {
    "duration": 39,
    "start_time": "2025-04-09T21:34:34.189Z"
   },
   {
    "duration": 9,
    "start_time": "2025-04-09T21:50:29.661Z"
   },
   {
    "duration": 40,
    "start_time": "2025-04-09T21:50:46.549Z"
   },
   {
    "duration": 9,
    "start_time": "2025-04-09T21:54:38.474Z"
   },
   {
    "duration": 5,
    "start_time": "2025-04-09T21:55:13.916Z"
   },
   {
    "duration": 9,
    "start_time": "2025-04-09T21:56:51.439Z"
   },
   {
    "duration": 6,
    "start_time": "2025-04-09T21:56:52.083Z"
   },
   {
    "duration": 5,
    "start_time": "2025-04-09T21:57:04.612Z"
   },
   {
    "duration": 9,
    "start_time": "2025-04-09T22:04:59.271Z"
   },
   {
    "duration": 16,
    "start_time": "2025-04-09T22:05:10.571Z"
   },
   {
    "duration": 12,
    "start_time": "2025-04-09T22:05:24.889Z"
   },
   {
    "duration": 14,
    "start_time": "2025-04-09T22:05:37.004Z"
   },
   {
    "duration": 5,
    "start_time": "2025-04-09T22:06:33.636Z"
   },
   {
    "duration": 5,
    "start_time": "2025-04-09T22:06:44.657Z"
   },
   {
    "duration": 4,
    "start_time": "2025-04-09T22:07:07.838Z"
   },
   {
    "duration": 8,
    "start_time": "2025-04-09T22:07:24.372Z"
   },
   {
    "duration": 7,
    "start_time": "2025-04-09T22:08:48.400Z"
   },
   {
    "duration": 7,
    "start_time": "2025-04-09T22:09:01.576Z"
   },
   {
    "duration": 6,
    "start_time": "2025-04-09T22:09:14.368Z"
   },
   {
    "duration": 7,
    "start_time": "2025-04-09T22:09:22.468Z"
   },
   {
    "duration": 8,
    "start_time": "2025-04-09T22:09:29.319Z"
   },
   {
    "duration": 7,
    "start_time": "2025-04-09T22:09:37.163Z"
   },
   {
    "duration": 9,
    "start_time": "2025-04-09T22:11:27.432Z"
   },
   {
    "duration": 10,
    "start_time": "2025-04-09T22:29:45.563Z"
   },
   {
    "duration": 3,
    "start_time": "2025-04-09T22:29:56.660Z"
   },
   {
    "duration": 3,
    "start_time": "2025-04-09T22:35:38.186Z"
   },
   {
    "duration": 10,
    "start_time": "2025-04-09T22:35:50.639Z"
   },
   {
    "duration": 14,
    "start_time": "2025-04-09T22:36:03.761Z"
   },
   {
    "duration": 14,
    "start_time": "2025-04-09T22:37:01.296Z"
   },
   {
    "duration": 5,
    "start_time": "2025-04-09T22:37:10.160Z"
   },
   {
    "duration": 7,
    "start_time": "2025-04-09T22:38:38.328Z"
   },
   {
    "duration": 5,
    "start_time": "2025-04-09T22:38:47.712Z"
   },
   {
    "duration": 11,
    "start_time": "2025-04-09T22:39:09.521Z"
   },
   {
    "duration": 10,
    "start_time": "2025-04-09T22:39:14.602Z"
   },
   {
    "duration": 13,
    "start_time": "2025-04-09T22:39:36.615Z"
   },
   {
    "duration": 4,
    "start_time": "2025-04-09T22:40:30.169Z"
   },
   {
    "duration": 13,
    "start_time": "2025-04-09T22:41:18.618Z"
   },
   {
    "duration": 6,
    "start_time": "2025-04-09T22:41:28.713Z"
   },
   {
    "duration": 10,
    "start_time": "2025-04-09T22:41:29.927Z"
   },
   {
    "duration": 281,
    "start_time": "2025-04-09T22:41:36.683Z"
   },
   {
    "duration": 152,
    "start_time": "2025-04-09T22:41:36.966Z"
   },
   {
    "duration": 10,
    "start_time": "2025-04-09T22:41:37.120Z"
   },
   {
    "duration": 12,
    "start_time": "2025-04-09T22:41:37.131Z"
   },
   {
    "duration": 8,
    "start_time": "2025-04-09T22:41:37.146Z"
   },
   {
    "duration": 10,
    "start_time": "2025-04-09T22:41:37.155Z"
   },
   {
    "duration": 6,
    "start_time": "2025-04-09T22:41:37.167Z"
   },
   {
    "duration": 10,
    "start_time": "2025-04-09T22:41:37.174Z"
   },
   {
    "duration": 19,
    "start_time": "2025-04-09T22:41:37.212Z"
   },
   {
    "duration": 7,
    "start_time": "2025-04-09T22:41:37.232Z"
   },
   {
    "duration": 11,
    "start_time": "2025-04-09T22:41:37.240Z"
   },
   {
    "duration": 8,
    "start_time": "2025-04-09T22:41:37.252Z"
   },
   {
    "duration": 14,
    "start_time": "2025-04-09T22:41:37.261Z"
   },
   {
    "duration": 35,
    "start_time": "2025-04-09T22:41:37.278Z"
   },
   {
    "duration": 2,
    "start_time": "2025-04-09T22:41:37.314Z"
   },
   {
    "duration": 3,
    "start_time": "2025-04-09T22:41:37.318Z"
   },
   {
    "duration": 3,
    "start_time": "2025-04-09T22:41:37.322Z"
   },
   {
    "duration": 3,
    "start_time": "2025-04-09T22:41:37.327Z"
   },
   {
    "duration": 3,
    "start_time": "2025-04-09T22:41:37.331Z"
   },
   {
    "duration": 2,
    "start_time": "2025-04-09T22:41:37.337Z"
   },
   {
    "duration": 3,
    "start_time": "2025-04-09T22:41:37.340Z"
   },
   {
    "duration": 3,
    "start_time": "2025-04-09T22:41:37.345Z"
   },
   {
    "duration": 3,
    "start_time": "2025-04-09T22:41:37.350Z"
   },
   {
    "duration": 4,
    "start_time": "2025-04-09T22:41:37.354Z"
   },
   {
    "duration": 3,
    "start_time": "2025-04-09T22:41:37.359Z"
   },
   {
    "duration": 3,
    "start_time": "2025-04-09T22:41:37.364Z"
   },
   {
    "duration": 45,
    "start_time": "2025-04-09T22:41:37.368Z"
   },
   {
    "duration": 2,
    "start_time": "2025-04-09T22:41:37.415Z"
   },
   {
    "duration": 3,
    "start_time": "2025-04-09T22:41:37.419Z"
   },
   {
    "duration": 3,
    "start_time": "2025-04-09T22:41:37.423Z"
   },
   {
    "duration": 5,
    "start_time": "2025-04-09T22:42:56.136Z"
   },
   {
    "duration": 5,
    "start_time": "2025-04-09T22:43:05.113Z"
   },
   {
    "duration": 6,
    "start_time": "2025-04-09T22:48:54.588Z"
   },
   {
    "duration": 5,
    "start_time": "2025-04-09T22:49:04.433Z"
   },
   {
    "duration": 6,
    "start_time": "2025-04-09T22:49:09.345Z"
   },
   {
    "duration": 315,
    "start_time": "2025-04-09T22:49:15.533Z"
   },
   {
    "duration": 163,
    "start_time": "2025-04-09T22:49:15.850Z"
   },
   {
    "duration": 9,
    "start_time": "2025-04-09T22:49:16.014Z"
   },
   {
    "duration": 12,
    "start_time": "2025-04-09T22:49:16.025Z"
   },
   {
    "duration": 8,
    "start_time": "2025-04-09T22:49:16.040Z"
   },
   {
    "duration": 9,
    "start_time": "2025-04-09T22:49:16.049Z"
   },
   {
    "duration": 5,
    "start_time": "2025-04-09T22:49:16.060Z"
   },
   {
    "duration": 5,
    "start_time": "2025-04-09T22:49:16.067Z"
   },
   {
    "duration": 42,
    "start_time": "2025-04-09T22:49:16.075Z"
   },
   {
    "duration": 7,
    "start_time": "2025-04-09T22:49:16.119Z"
   },
   {
    "duration": 11,
    "start_time": "2025-04-09T22:49:16.128Z"
   },
   {
    "duration": 6,
    "start_time": "2025-04-09T22:49:16.140Z"
   },
   {
    "duration": 13,
    "start_time": "2025-04-09T22:49:16.148Z"
   },
   {
    "duration": 6,
    "start_time": "2025-04-09T22:49:16.164Z"
   },
   {
    "duration": 39,
    "start_time": "2025-04-09T22:49:16.173Z"
   },
   {
    "duration": 2,
    "start_time": "2025-04-09T22:49:16.213Z"
   },
   {
    "duration": 4,
    "start_time": "2025-04-09T22:49:16.217Z"
   },
   {
    "duration": 3,
    "start_time": "2025-04-09T22:49:16.222Z"
   },
   {
    "duration": 3,
    "start_time": "2025-04-09T22:49:16.226Z"
   },
   {
    "duration": 3,
    "start_time": "2025-04-09T22:49:16.231Z"
   },
   {
    "duration": 3,
    "start_time": "2025-04-09T22:49:16.235Z"
   },
   {
    "duration": 3,
    "start_time": "2025-04-09T22:49:16.240Z"
   },
   {
    "duration": 4,
    "start_time": "2025-04-09T22:49:16.244Z"
   },
   {
    "duration": 3,
    "start_time": "2025-04-09T22:49:16.249Z"
   },
   {
    "duration": 3,
    "start_time": "2025-04-09T22:49:16.254Z"
   },
   {
    "duration": 3,
    "start_time": "2025-04-09T22:49:16.259Z"
   },
   {
    "duration": 2,
    "start_time": "2025-04-09T22:49:16.264Z"
   },
   {
    "duration": 3,
    "start_time": "2025-04-09T22:49:16.268Z"
   },
   {
    "duration": 2,
    "start_time": "2025-04-09T22:49:16.312Z"
   },
   {
    "duration": 3,
    "start_time": "2025-04-09T22:49:16.316Z"
   },
   {
    "duration": 5,
    "start_time": "2025-04-09T22:50:16.563Z"
   },
   {
    "duration": 17,
    "start_time": "2025-04-09T22:54:56.949Z"
   },
   {
    "duration": 11,
    "start_time": "2025-04-09T22:55:17.545Z"
   },
   {
    "duration": 9,
    "start_time": "2025-04-09T22:55:30.942Z"
   },
   {
    "duration": 8,
    "start_time": "2025-04-09T22:55:37.669Z"
   },
   {
    "duration": 19,
    "start_time": "2025-04-09T22:55:50.982Z"
   },
   {
    "duration": 11,
    "start_time": "2025-04-09T22:55:56.685Z"
   },
   {
    "duration": 10,
    "start_time": "2025-04-09T23:00:32.601Z"
   },
   {
    "duration": 8,
    "start_time": "2025-04-09T23:01:19.027Z"
   },
   {
    "duration": 9,
    "start_time": "2025-04-09T23:01:27.203Z"
   },
   {
    "duration": 7,
    "start_time": "2025-04-09T23:01:38.649Z"
   },
   {
    "duration": 14,
    "start_time": "2025-04-09T23:02:24.210Z"
   },
   {
    "duration": 7,
    "start_time": "2025-04-09T23:03:27.696Z"
   },
   {
    "duration": 10,
    "start_time": "2025-04-09T23:04:26.191Z"
   },
   {
    "duration": 10,
    "start_time": "2025-04-09T23:04:40.893Z"
   },
   {
    "duration": 13,
    "start_time": "2025-04-09T23:04:58.213Z"
   },
   {
    "duration": 5,
    "start_time": "2025-04-09T23:05:23.318Z"
   },
   {
    "duration": 7,
    "start_time": "2025-04-09T23:06:35.018Z"
   },
   {
    "duration": 5,
    "start_time": "2025-04-09T23:06:42.045Z"
   },
   {
    "duration": 6,
    "start_time": "2025-04-09T23:07:15.931Z"
   },
   {
    "duration": 11,
    "start_time": "2025-04-09T23:20:25.168Z"
   },
   {
    "duration": 8,
    "start_time": "2025-04-09T23:20:32.261Z"
   },
   {
    "duration": 20,
    "start_time": "2025-04-09T23:20:59.261Z"
   },
   {
    "duration": 9,
    "start_time": "2025-04-09T23:23:51.129Z"
   },
   {
    "duration": 307,
    "start_time": "2025-04-09T23:24:06.836Z"
   },
   {
    "duration": 155,
    "start_time": "2025-04-09T23:24:07.145Z"
   },
   {
    "duration": 9,
    "start_time": "2025-04-09T23:24:07.302Z"
   },
   {
    "duration": 11,
    "start_time": "2025-04-09T23:24:07.313Z"
   },
   {
    "duration": 8,
    "start_time": "2025-04-09T23:24:07.325Z"
   },
   {
    "duration": 9,
    "start_time": "2025-04-09T23:24:07.335Z"
   },
   {
    "duration": 6,
    "start_time": "2025-04-09T23:24:07.345Z"
   },
   {
    "duration": 7,
    "start_time": "2025-04-09T23:24:07.352Z"
   },
   {
    "duration": 16,
    "start_time": "2025-04-09T23:24:07.360Z"
   },
   {
    "duration": 7,
    "start_time": "2025-04-09T23:24:07.412Z"
   },
   {
    "duration": 16,
    "start_time": "2025-04-09T23:24:07.421Z"
   },
   {
    "duration": 10,
    "start_time": "2025-04-09T23:24:07.439Z"
   },
   {
    "duration": 10,
    "start_time": "2025-04-09T23:24:07.451Z"
   },
   {
    "duration": 6,
    "start_time": "2025-04-09T23:24:07.463Z"
   },
   {
    "duration": 41,
    "start_time": "2025-04-09T23:24:07.471Z"
   },
   {
    "duration": 13,
    "start_time": "2025-04-09T23:24:07.514Z"
   },
   {
    "duration": 7,
    "start_time": "2025-04-09T23:24:07.528Z"
   },
   {
    "duration": 13,
    "start_time": "2025-04-09T23:24:07.536Z"
   },
   {
    "duration": 3,
    "start_time": "2025-04-09T23:24:07.550Z"
   },
   {
    "duration": 3,
    "start_time": "2025-04-09T23:24:07.554Z"
   },
   {
    "duration": 2,
    "start_time": "2025-04-09T23:24:07.560Z"
   },
   {
    "duration": 3,
    "start_time": "2025-04-09T23:24:07.564Z"
   },
   {
    "duration": 4,
    "start_time": "2025-04-09T23:24:07.568Z"
   },
   {
    "duration": 40,
    "start_time": "2025-04-09T23:24:07.573Z"
   },
   {
    "duration": 3,
    "start_time": "2025-04-09T23:24:07.615Z"
   },
   {
    "duration": 4,
    "start_time": "2025-04-09T23:24:07.619Z"
   },
   {
    "duration": 3,
    "start_time": "2025-04-09T23:24:07.624Z"
   },
   {
    "duration": 2,
    "start_time": "2025-04-09T23:24:07.631Z"
   },
   {
    "duration": 3,
    "start_time": "2025-04-09T23:24:07.635Z"
   },
   {
    "duration": 3,
    "start_time": "2025-04-09T23:24:07.640Z"
   },
   {
    "duration": 3,
    "start_time": "2025-04-09T23:24:07.644Z"
   },
   {
    "duration": 2,
    "start_time": "2025-04-09T23:24:07.649Z"
   },
   {
    "duration": 3,
    "start_time": "2025-04-09T23:24:07.653Z"
   },
   {
    "duration": 4,
    "start_time": "2025-04-09T23:24:07.657Z"
   },
   {
    "duration": 8,
    "start_time": "2025-04-09T23:26:47.061Z"
   },
   {
    "duration": 9,
    "start_time": "2025-04-09T23:26:53.356Z"
   },
   {
    "duration": 7,
    "start_time": "2025-04-09T23:26:59.331Z"
   },
   {
    "duration": 8,
    "start_time": "2025-04-09T23:28:40.954Z"
   },
   {
    "duration": 172,
    "start_time": "2025-04-10T00:02:40.660Z"
   },
   {
    "duration": 5,
    "start_time": "2025-04-10T00:02:45.821Z"
   },
   {
    "duration": 4,
    "start_time": "2025-04-10T00:02:53.229Z"
   },
   {
    "duration": 19,
    "start_time": "2025-04-10T00:03:12.650Z"
   },
   {
    "duration": 5,
    "start_time": "2025-04-10T00:03:16.961Z"
   },
   {
    "duration": 13,
    "start_time": "2025-04-10T00:06:39.182Z"
   },
   {
    "duration": 3,
    "start_time": "2025-04-10T00:11:34.826Z"
   },
   {
    "duration": 9,
    "start_time": "2025-04-10T00:15:12.507Z"
   },
   {
    "duration": 9,
    "start_time": "2025-04-10T00:15:23.047Z"
   },
   {
    "duration": 24,
    "start_time": "2025-04-10T00:22:37.165Z"
   },
   {
    "duration": 23,
    "start_time": "2025-04-10T00:24:22.366Z"
   },
   {
    "duration": 390,
    "start_time": "2025-04-10T00:25:20.202Z"
   },
   {
    "duration": 34,
    "start_time": "2025-04-10T00:26:01.660Z"
   },
   {
    "duration": 34,
    "start_time": "2025-04-10T00:26:14.403Z"
   },
   {
    "duration": 25,
    "start_time": "2025-04-10T00:27:13.628Z"
   },
   {
    "duration": 5,
    "start_time": "2025-04-10T00:28:07.740Z"
   },
   {
    "duration": 27,
    "start_time": "2025-04-10T00:28:30.578Z"
   },
   {
    "duration": 15,
    "start_time": "2025-04-10T00:30:03.126Z"
   },
   {
    "duration": 16,
    "start_time": "2025-04-10T00:30:09.593Z"
   },
   {
    "duration": 327,
    "start_time": "2025-04-10T00:30:14.842Z"
   },
   {
    "duration": 155,
    "start_time": "2025-04-10T00:30:15.172Z"
   },
   {
    "duration": 9,
    "start_time": "2025-04-10T00:30:15.329Z"
   },
   {
    "duration": 11,
    "start_time": "2025-04-10T00:30:15.341Z"
   },
   {
    "duration": 8,
    "start_time": "2025-04-10T00:30:15.353Z"
   },
   {
    "duration": 8,
    "start_time": "2025-04-10T00:30:15.364Z"
   },
   {
    "duration": 7,
    "start_time": "2025-04-10T00:30:15.374Z"
   },
   {
    "duration": 33,
    "start_time": "2025-04-10T00:30:15.382Z"
   },
   {
    "duration": 14,
    "start_time": "2025-04-10T00:30:15.416Z"
   },
   {
    "duration": 7,
    "start_time": "2025-04-10T00:30:15.434Z"
   },
   {
    "duration": 17,
    "start_time": "2025-04-10T00:30:15.443Z"
   },
   {
    "duration": 12,
    "start_time": "2025-04-10T00:30:15.461Z"
   },
   {
    "duration": 40,
    "start_time": "2025-04-10T00:30:15.474Z"
   },
   {
    "duration": 7,
    "start_time": "2025-04-10T00:30:15.515Z"
   },
   {
    "duration": 10,
    "start_time": "2025-04-10T00:30:15.524Z"
   },
   {
    "duration": 13,
    "start_time": "2025-04-10T00:30:15.536Z"
   },
   {
    "duration": 8,
    "start_time": "2025-04-10T00:30:15.550Z"
   },
   {
    "duration": 13,
    "start_time": "2025-04-10T00:30:15.560Z"
   },
   {
    "duration": 37,
    "start_time": "2025-04-10T00:30:15.575Z"
   },
   {
    "duration": 27,
    "start_time": "2025-04-10T00:30:15.614Z"
   },
   {
    "duration": 17,
    "start_time": "2025-04-10T00:30:15.643Z"
   },
   {
    "duration": 3,
    "start_time": "2025-04-10T00:30:15.661Z"
   },
   {
    "duration": 3,
    "start_time": "2025-04-10T00:30:15.665Z"
   },
   {
    "duration": 3,
    "start_time": "2025-04-10T00:30:15.670Z"
   },
   {
    "duration": 3,
    "start_time": "2025-04-10T00:30:15.674Z"
   },
   {
    "duration": 35,
    "start_time": "2025-04-10T00:30:15.678Z"
   },
   {
    "duration": 2,
    "start_time": "2025-04-10T00:30:15.715Z"
   },
   {
    "duration": 2,
    "start_time": "2025-04-10T00:30:15.721Z"
   },
   {
    "duration": 4,
    "start_time": "2025-04-10T00:30:15.724Z"
   },
   {
    "duration": 4,
    "start_time": "2025-04-10T00:30:15.729Z"
   },
   {
    "duration": 2,
    "start_time": "2025-04-10T00:30:15.735Z"
   },
   {
    "duration": 3,
    "start_time": "2025-04-10T00:30:15.739Z"
   },
   {
    "duration": 4,
    "start_time": "2025-04-10T00:30:15.743Z"
   },
   {
    "duration": 4,
    "start_time": "2025-04-10T00:30:15.748Z"
   },
   {
    "duration": 15,
    "start_time": "2025-04-10T00:31:49.764Z"
   },
   {
    "duration": 14,
    "start_time": "2025-04-10T00:32:12.128Z"
   },
   {
    "duration": 287,
    "start_time": "2025-04-10T00:33:36.869Z"
   },
   {
    "duration": 154,
    "start_time": "2025-04-10T00:33:37.158Z"
   },
   {
    "duration": 10,
    "start_time": "2025-04-10T00:33:37.313Z"
   },
   {
    "duration": 11,
    "start_time": "2025-04-10T00:33:37.325Z"
   },
   {
    "duration": 7,
    "start_time": "2025-04-10T00:33:37.338Z"
   },
   {
    "duration": 8,
    "start_time": "2025-04-10T00:33:37.347Z"
   },
   {
    "duration": 7,
    "start_time": "2025-04-10T00:33:37.356Z"
   },
   {
    "duration": 8,
    "start_time": "2025-04-10T00:33:37.364Z"
   },
   {
    "duration": 49,
    "start_time": "2025-04-10T00:33:37.374Z"
   },
   {
    "duration": 7,
    "start_time": "2025-04-10T00:33:37.426Z"
   },
   {
    "duration": 17,
    "start_time": "2025-04-10T00:33:37.435Z"
   },
   {
    "duration": 10,
    "start_time": "2025-04-10T00:33:37.454Z"
   },
   {
    "duration": 11,
    "start_time": "2025-04-10T00:33:37.466Z"
   },
   {
    "duration": 36,
    "start_time": "2025-04-10T00:33:37.479Z"
   },
   {
    "duration": 10,
    "start_time": "2025-04-10T00:33:37.517Z"
   },
   {
    "duration": 13,
    "start_time": "2025-04-10T00:33:37.529Z"
   },
   {
    "duration": 6,
    "start_time": "2025-04-10T00:33:37.544Z"
   },
   {
    "duration": 13,
    "start_time": "2025-04-10T00:33:37.552Z"
   },
   {
    "duration": 8,
    "start_time": "2025-04-10T00:33:37.566Z"
   },
   {
    "duration": 57,
    "start_time": "2025-04-10T00:33:37.576Z"
   },
   {
    "duration": 13,
    "start_time": "2025-04-10T00:33:37.635Z"
   },
   {
    "duration": 2,
    "start_time": "2025-04-10T00:33:37.649Z"
   },
   {
    "duration": 3,
    "start_time": "2025-04-10T00:33:37.653Z"
   },
   {
    "duration": 3,
    "start_time": "2025-04-10T00:33:37.657Z"
   },
   {
    "duration": 4,
    "start_time": "2025-04-10T00:33:37.661Z"
   },
   {
    "duration": 3,
    "start_time": "2025-04-10T00:33:37.666Z"
   },
   {
    "duration": 3,
    "start_time": "2025-04-10T00:33:37.670Z"
   },
   {
    "duration": 36,
    "start_time": "2025-04-10T00:33:37.676Z"
   },
   {
    "duration": 2,
    "start_time": "2025-04-10T00:33:37.714Z"
   },
   {
    "duration": 3,
    "start_time": "2025-04-10T00:33:37.718Z"
   },
   {
    "duration": 3,
    "start_time": "2025-04-10T00:33:37.722Z"
   },
   {
    "duration": 4,
    "start_time": "2025-04-10T00:33:37.726Z"
   },
   {
    "duration": 3,
    "start_time": "2025-04-10T00:33:37.731Z"
   },
   {
    "duration": 3,
    "start_time": "2025-04-10T00:33:37.735Z"
   },
   {
    "duration": 14,
    "start_time": "2025-04-10T00:34:34.297Z"
   },
   {
    "duration": 175,
    "start_time": "2025-04-10T00:42:03.040Z"
   },
   {
    "duration": 16,
    "start_time": "2025-04-10T00:42:06.815Z"
   },
   {
    "duration": 16,
    "start_time": "2025-04-10T00:42:09.514Z"
   },
   {
    "duration": 23,
    "start_time": "2025-04-10T00:42:59.219Z"
   },
   {
    "duration": 17,
    "start_time": "2025-04-10T00:45:33.724Z"
   },
   {
    "duration": 16,
    "start_time": "2025-04-10T00:56:01.214Z"
   },
   {
    "duration": 320,
    "start_time": "2025-04-10T01:00:24.860Z"
   },
   {
    "duration": 43,
    "start_time": "2025-04-10T01:01:36.741Z"
   },
   {
    "duration": 40,
    "start_time": "2025-04-10T01:02:14.570Z"
   },
   {
    "duration": 5,
    "start_time": "2025-04-10T01:03:00.726Z"
   },
   {
    "duration": 59,
    "start_time": "2025-04-10T01:08:47.998Z"
   },
   {
    "duration": 40,
    "start_time": "2025-04-10T01:09:00.801Z"
   },
   {
    "duration": 13,
    "start_time": "2025-04-10T01:11:09.313Z"
   },
   {
    "duration": 11,
    "start_time": "2025-04-10T01:15:39.320Z"
   },
   {
    "duration": 12,
    "start_time": "2025-04-10T01:15:42.305Z"
   },
   {
    "duration": 13,
    "start_time": "2025-04-10T01:15:44.843Z"
   },
   {
    "duration": 6,
    "start_time": "2025-04-10T01:24:35.674Z"
   },
   {
    "duration": 13,
    "start_time": "2025-04-10T01:26:05.603Z"
   },
   {
    "duration": 6,
    "start_time": "2025-04-10T01:38:18.253Z"
   },
   {
    "duration": 5,
    "start_time": "2025-04-10T01:41:29.879Z"
   },
   {
    "duration": 7,
    "start_time": "2025-04-10T01:41:46.134Z"
   },
   {
    "duration": 5,
    "start_time": "2025-04-10T01:42:02.113Z"
   },
   {
    "duration": 17,
    "start_time": "2025-04-10T01:42:50.189Z"
   },
   {
    "duration": 17,
    "start_time": "2025-04-10T01:43:27.668Z"
   },
   {
    "duration": 21,
    "start_time": "2025-04-10T01:44:16.931Z"
   },
   {
    "duration": 5,
    "start_time": "2025-04-10T01:44:23.064Z"
   },
   {
    "duration": 5,
    "start_time": "2025-04-10T01:45:42.446Z"
   },
   {
    "duration": 17,
    "start_time": "2025-04-10T01:45:45.231Z"
   },
   {
    "duration": 17,
    "start_time": "2025-04-10T01:47:51.137Z"
   },
   {
    "duration": 162,
    "start_time": "2025-04-10T18:33:52.554Z"
   },
   {
    "duration": 2,
    "start_time": "2025-04-10T18:34:26.903Z"
   },
   {
    "duration": 315,
    "start_time": "2025-04-10T18:34:29.182Z"
   },
   {
    "duration": 224,
    "start_time": "2025-04-10T18:34:29.499Z"
   },
   {
    "duration": 10,
    "start_time": "2025-04-10T18:34:29.725Z"
   },
   {
    "duration": 5,
    "start_time": "2025-04-10T18:34:29.738Z"
   },
   {
    "duration": 8,
    "start_time": "2025-04-10T18:34:29.746Z"
   },
   {
    "duration": 11,
    "start_time": "2025-04-10T18:34:29.755Z"
   },
   {
    "duration": 7,
    "start_time": "2025-04-10T18:34:29.768Z"
   },
   {
    "duration": 5,
    "start_time": "2025-04-10T18:34:29.776Z"
   },
   {
    "duration": 15,
    "start_time": "2025-04-10T18:34:29.783Z"
   },
   {
    "duration": 44,
    "start_time": "2025-04-10T18:34:29.799Z"
   },
   {
    "duration": 21,
    "start_time": "2025-04-10T18:34:29.845Z"
   },
   {
    "duration": 13,
    "start_time": "2025-04-10T18:34:29.868Z"
   },
   {
    "duration": 13,
    "start_time": "2025-04-10T18:34:29.883Z"
   },
   {
    "duration": 9,
    "start_time": "2025-04-10T18:34:29.900Z"
   },
   {
    "duration": 39,
    "start_time": "2025-04-10T18:34:29.912Z"
   },
   {
    "duration": 15,
    "start_time": "2025-04-10T18:34:29.952Z"
   },
   {
    "duration": 7,
    "start_time": "2025-04-10T18:34:29.969Z"
   },
   {
    "duration": 14,
    "start_time": "2025-04-10T18:34:29.978Z"
   },
   {
    "duration": 8,
    "start_time": "2025-04-10T18:34:29.994Z"
   },
   {
    "duration": 58,
    "start_time": "2025-04-10T18:34:30.004Z"
   },
   {
    "duration": 13,
    "start_time": "2025-04-10T18:34:30.063Z"
   },
   {
    "duration": 23,
    "start_time": "2025-04-10T18:34:30.078Z"
   },
   {
    "duration": 15,
    "start_time": "2025-04-10T18:34:30.102Z"
   },
   {
    "duration": 41,
    "start_time": "2025-04-10T18:34:30.119Z"
   },
   {
    "duration": 13,
    "start_time": "2025-04-10T18:34:30.161Z"
   },
   {
    "duration": 40,
    "start_time": "2025-04-10T18:34:30.175Z"
   },
   {
    "duration": 0,
    "start_time": "2025-04-10T18:34:30.217Z"
   },
   {
    "duration": 0,
    "start_time": "2025-04-10T18:34:30.242Z"
   },
   {
    "duration": 0,
    "start_time": "2025-04-10T18:34:30.243Z"
   },
   {
    "duration": 0,
    "start_time": "2025-04-10T18:34:30.244Z"
   },
   {
    "duration": 0,
    "start_time": "2025-04-10T18:34:30.245Z"
   },
   {
    "duration": 0,
    "start_time": "2025-04-10T18:34:30.246Z"
   },
   {
    "duration": 0,
    "start_time": "2025-04-10T18:34:30.247Z"
   },
   {
    "duration": 0,
    "start_time": "2025-04-10T18:34:30.248Z"
   },
   {
    "duration": 2,
    "start_time": "2025-04-10T18:36:44.252Z"
   },
   {
    "duration": 161,
    "start_time": "2025-04-10T18:36:44.256Z"
   },
   {
    "duration": 8,
    "start_time": "2025-04-10T18:36:44.419Z"
   },
   {
    "duration": 5,
    "start_time": "2025-04-10T18:36:44.429Z"
   },
   {
    "duration": 9,
    "start_time": "2025-04-10T18:36:44.443Z"
   },
   {
    "duration": 9,
    "start_time": "2025-04-10T18:36:44.454Z"
   },
   {
    "duration": 5,
    "start_time": "2025-04-10T18:36:44.465Z"
   },
   {
    "duration": 6,
    "start_time": "2025-04-10T18:36:44.472Z"
   },
   {
    "duration": 16,
    "start_time": "2025-04-10T18:36:44.482Z"
   },
   {
    "duration": 8,
    "start_time": "2025-04-10T18:36:44.500Z"
   },
   {
    "duration": 16,
    "start_time": "2025-04-10T18:36:44.544Z"
   },
   {
    "duration": 9,
    "start_time": "2025-04-10T18:36:44.561Z"
   },
   {
    "duration": 11,
    "start_time": "2025-04-10T18:36:44.573Z"
   },
   {
    "duration": 6,
    "start_time": "2025-04-10T18:36:44.585Z"
   },
   {
    "duration": 10,
    "start_time": "2025-04-10T18:36:44.593Z"
   },
   {
    "duration": 46,
    "start_time": "2025-04-10T18:36:44.604Z"
   },
   {
    "duration": 7,
    "start_time": "2025-04-10T18:36:44.652Z"
   },
   {
    "duration": 13,
    "start_time": "2025-04-10T18:36:44.661Z"
   },
   {
    "duration": 8,
    "start_time": "2025-04-10T18:36:44.675Z"
   },
   {
    "duration": 24,
    "start_time": "2025-04-10T18:36:44.685Z"
   },
   {
    "duration": 43,
    "start_time": "2025-04-10T18:36:44.711Z"
   },
   {
    "duration": 22,
    "start_time": "2025-04-10T18:36:44.755Z"
   },
   {
    "duration": 15,
    "start_time": "2025-04-10T18:36:44.779Z"
   },
   {
    "duration": 15,
    "start_time": "2025-04-10T18:36:44.798Z"
   },
   {
    "duration": 41,
    "start_time": "2025-04-10T18:36:44.815Z"
   },
   {
    "duration": 20,
    "start_time": "2025-04-10T18:36:44.858Z"
   },
   {
    "duration": 0,
    "start_time": "2025-04-10T18:36:44.880Z"
   },
   {
    "duration": 0,
    "start_time": "2025-04-10T18:36:44.881Z"
   },
   {
    "duration": 0,
    "start_time": "2025-04-10T18:36:44.882Z"
   },
   {
    "duration": 0,
    "start_time": "2025-04-10T18:36:44.883Z"
   },
   {
    "duration": 0,
    "start_time": "2025-04-10T18:36:44.885Z"
   },
   {
    "duration": 0,
    "start_time": "2025-04-10T18:36:44.885Z"
   },
   {
    "duration": 0,
    "start_time": "2025-04-10T18:36:44.887Z"
   },
   {
    "duration": 0,
    "start_time": "2025-04-10T18:36:44.887Z"
   },
   {
    "duration": 11,
    "start_time": "2025-04-10T18:36:50.163Z"
   },
   {
    "duration": 13,
    "start_time": "2025-04-10T18:36:57.161Z"
   },
   {
    "duration": 14,
    "start_time": "2025-04-10T18:49:47.171Z"
   },
   {
    "duration": 5,
    "start_time": "2025-04-10T18:49:59.181Z"
   },
   {
    "duration": 11,
    "start_time": "2025-04-10T18:50:17.975Z"
   },
   {
    "duration": 1943,
    "start_time": "2025-04-10T20:07:33.525Z"
   },
   {
    "duration": 296,
    "start_time": "2025-04-10T20:07:41.221Z"
   },
   {
    "duration": 244,
    "start_time": "2025-04-10T20:07:58.644Z"
   },
   {
    "duration": 47,
    "start_time": "2025-04-10T20:15:21.307Z"
   },
   {
    "duration": 28,
    "start_time": "2025-04-10T20:16:32.295Z"
   },
   {
    "duration": 13,
    "start_time": "2025-04-10T20:17:12.600Z"
   },
   {
    "duration": 10,
    "start_time": "2025-04-10T20:17:28.701Z"
   },
   {
    "duration": 28,
    "start_time": "2025-04-10T20:25:05.320Z"
   },
   {
    "duration": 29,
    "start_time": "2025-04-10T20:25:44.295Z"
   },
   {
    "duration": 6,
    "start_time": "2025-04-10T20:32:22.400Z"
   },
   {
    "duration": 5,
    "start_time": "2025-04-10T20:32:36.676Z"
   },
   {
    "duration": 7,
    "start_time": "2025-04-10T20:32:48.470Z"
   },
   {
    "duration": 2,
    "start_time": "2025-04-10T20:32:55.907Z"
   },
   {
    "duration": 166,
    "start_time": "2025-04-10T20:32:55.913Z"
   },
   {
    "duration": 8,
    "start_time": "2025-04-10T20:32:56.081Z"
   },
   {
    "duration": 4,
    "start_time": "2025-04-10T20:32:56.092Z"
   },
   {
    "duration": 8,
    "start_time": "2025-04-10T20:32:56.098Z"
   },
   {
    "duration": 7,
    "start_time": "2025-04-10T20:32:56.109Z"
   },
   {
    "duration": 27,
    "start_time": "2025-04-10T20:32:56.118Z"
   },
   {
    "duration": 5,
    "start_time": "2025-04-10T20:32:56.147Z"
   },
   {
    "duration": 14,
    "start_time": "2025-04-10T20:32:56.155Z"
   },
   {
    "duration": 5,
    "start_time": "2025-04-10T20:32:56.171Z"
   },
   {
    "duration": 17,
    "start_time": "2025-04-10T20:32:56.178Z"
   },
   {
    "duration": 6,
    "start_time": "2025-04-10T20:32:56.196Z"
   },
   {
    "duration": 43,
    "start_time": "2025-04-10T20:32:56.204Z"
   },
   {
    "duration": 5,
    "start_time": "2025-04-10T20:32:56.249Z"
   },
   {
    "duration": 11,
    "start_time": "2025-04-10T20:32:56.259Z"
   },
   {
    "duration": 14,
    "start_time": "2025-04-10T20:32:56.271Z"
   },
   {
    "duration": 7,
    "start_time": "2025-04-10T20:32:56.287Z"
   },
   {
    "duration": 14,
    "start_time": "2025-04-10T20:32:56.296Z"
   },
   {
    "duration": 8,
    "start_time": "2025-04-10T20:32:56.343Z"
   },
   {
    "duration": 22,
    "start_time": "2025-04-10T20:32:56.353Z"
   },
   {
    "duration": 13,
    "start_time": "2025-04-10T20:32:56.378Z"
   },
   {
    "duration": 23,
    "start_time": "2025-04-10T20:32:56.392Z"
   },
   {
    "duration": 39,
    "start_time": "2025-04-10T20:32:56.417Z"
   },
   {
    "duration": 18,
    "start_time": "2025-04-10T20:32:56.458Z"
   },
   {
    "duration": 11,
    "start_time": "2025-04-10T20:32:56.478Z"
   },
   {
    "duration": 52,
    "start_time": "2025-04-10T20:32:56.491Z"
   },
   {
    "duration": 242,
    "start_time": "2025-04-10T20:32:56.545Z"
   },
   {
    "duration": 13,
    "start_time": "2025-04-10T20:32:56.789Z"
   },
   {
    "duration": 3,
    "start_time": "2025-04-10T20:32:56.803Z"
   },
   {
    "duration": 2,
    "start_time": "2025-04-10T20:32:56.808Z"
   },
   {
    "duration": 3,
    "start_time": "2025-04-10T20:32:56.812Z"
   },
   {
    "duration": 25,
    "start_time": "2025-04-10T20:32:56.817Z"
   },
   {
    "duration": 2,
    "start_time": "2025-04-10T20:32:56.844Z"
   },
   {
    "duration": 3,
    "start_time": "2025-04-10T20:32:56.848Z"
   },
   {
    "duration": 433,
    "start_time": "2025-04-10T20:33:37.944Z"
   },
   {
    "duration": 201,
    "start_time": "2025-04-10T20:33:38.379Z"
   },
   {
    "duration": 11,
    "start_time": "2025-04-10T20:33:38.581Z"
   },
   {
    "duration": 5,
    "start_time": "2025-04-10T20:33:38.595Z"
   },
   {
    "duration": 8,
    "start_time": "2025-04-10T20:33:38.601Z"
   },
   {
    "duration": 7,
    "start_time": "2025-04-10T20:33:38.611Z"
   },
   {
    "duration": 6,
    "start_time": "2025-04-10T20:33:38.642Z"
   },
   {
    "duration": 8,
    "start_time": "2025-04-10T20:33:38.650Z"
   },
   {
    "duration": 19,
    "start_time": "2025-04-10T20:33:38.659Z"
   },
   {
    "duration": 5,
    "start_time": "2025-04-10T20:33:38.681Z"
   },
   {
    "duration": 20,
    "start_time": "2025-04-10T20:33:38.688Z"
   },
   {
    "duration": 39,
    "start_time": "2025-04-10T20:33:38.710Z"
   },
   {
    "duration": 11,
    "start_time": "2025-04-10T20:33:38.750Z"
   },
   {
    "duration": 4,
    "start_time": "2025-04-10T20:33:38.763Z"
   },
   {
    "duration": 11,
    "start_time": "2025-04-10T20:33:38.769Z"
   },
   {
    "duration": 12,
    "start_time": "2025-04-10T20:33:38.783Z"
   },
   {
    "duration": 5,
    "start_time": "2025-04-10T20:33:38.796Z"
   },
   {
    "duration": 48,
    "start_time": "2025-04-10T20:33:38.802Z"
   },
   {
    "duration": 8,
    "start_time": "2025-04-10T20:33:38.852Z"
   },
   {
    "duration": 22,
    "start_time": "2025-04-10T20:33:38.862Z"
   },
   {
    "duration": 14,
    "start_time": "2025-04-10T20:33:38.886Z"
   },
   {
    "duration": 53,
    "start_time": "2025-04-10T20:33:38.901Z"
   },
   {
    "duration": 19,
    "start_time": "2025-04-10T20:33:38.956Z"
   },
   {
    "duration": 18,
    "start_time": "2025-04-10T20:33:38.977Z"
   },
   {
    "duration": 14,
    "start_time": "2025-04-10T20:33:38.997Z"
   },
   {
    "duration": 50,
    "start_time": "2025-04-10T20:33:39.013Z"
   },
   {
    "duration": 265,
    "start_time": "2025-04-10T20:33:39.064Z"
   },
   {
    "duration": 17,
    "start_time": "2025-04-10T20:33:39.334Z"
   },
   {
    "duration": 3,
    "start_time": "2025-04-10T20:33:39.352Z"
   },
   {
    "duration": 3,
    "start_time": "2025-04-10T20:33:39.356Z"
   },
   {
    "duration": 3,
    "start_time": "2025-04-10T20:33:39.361Z"
   },
   {
    "duration": 3,
    "start_time": "2025-04-10T20:33:39.365Z"
   },
   {
    "duration": 3,
    "start_time": "2025-04-10T20:33:39.370Z"
   },
   {
    "duration": 3,
    "start_time": "2025-04-10T20:33:39.375Z"
   },
   {
    "duration": 2,
    "start_time": "2025-04-10T20:35:14.739Z"
   },
   {
    "duration": 171,
    "start_time": "2025-04-10T20:38:20.959Z"
   },
   {
    "duration": 172,
    "start_time": "2025-04-10T20:39:45.785Z"
   },
   {
    "duration": 15,
    "start_time": "2025-04-10T20:42:25.467Z"
   },
   {
    "duration": 478,
    "start_time": "2025-04-10T20:44:56.543Z"
   },
   {
    "duration": 138,
    "start_time": "2025-04-10T20:45:17.739Z"
   },
   {
    "duration": 85,
    "start_time": "2025-04-10T20:45:54.437Z"
   },
   {
    "duration": 87,
    "start_time": "2025-04-10T20:46:18.851Z"
   },
   {
    "duration": 170,
    "start_time": "2025-04-13T18:59:33.246Z"
   },
   {
    "duration": 2628,
    "start_time": "2025-04-13T18:59:39.830Z"
   },
   {
    "duration": 233,
    "start_time": "2025-04-13T18:59:42.460Z"
   },
   {
    "duration": 10,
    "start_time": "2025-04-13T18:59:42.694Z"
   },
   {
    "duration": 7,
    "start_time": "2025-04-13T18:59:42.706Z"
   },
   {
    "duration": 8,
    "start_time": "2025-04-13T18:59:42.715Z"
   },
   {
    "duration": 6,
    "start_time": "2025-04-13T18:59:42.725Z"
   },
   {
    "duration": 6,
    "start_time": "2025-04-13T18:59:42.732Z"
   },
   {
    "duration": 6,
    "start_time": "2025-04-13T18:59:42.740Z"
   },
   {
    "duration": 48,
    "start_time": "2025-04-13T18:59:42.747Z"
   },
   {
    "duration": 6,
    "start_time": "2025-04-13T18:59:42.798Z"
   },
   {
    "duration": 18,
    "start_time": "2025-04-13T18:59:42.805Z"
   },
   {
    "duration": 8,
    "start_time": "2025-04-13T18:59:42.825Z"
   },
   {
    "duration": 13,
    "start_time": "2025-04-13T18:59:42.837Z"
   },
   {
    "duration": 37,
    "start_time": "2025-04-13T18:59:42.852Z"
   },
   {
    "duration": 11,
    "start_time": "2025-04-13T18:59:42.891Z"
   },
   {
    "duration": 288,
    "start_time": "2025-04-13T18:59:42.904Z"
   },
   {
    "duration": 0,
    "start_time": "2025-04-13T18:59:43.194Z"
   },
   {
    "duration": 0,
    "start_time": "2025-04-13T18:59:43.195Z"
   },
   {
    "duration": 0,
    "start_time": "2025-04-13T18:59:43.196Z"
   },
   {
    "duration": 0,
    "start_time": "2025-04-13T18:59:43.197Z"
   },
   {
    "duration": 0,
    "start_time": "2025-04-13T18:59:43.198Z"
   },
   {
    "duration": 0,
    "start_time": "2025-04-13T18:59:43.199Z"
   },
   {
    "duration": 0,
    "start_time": "2025-04-13T18:59:43.200Z"
   },
   {
    "duration": 0,
    "start_time": "2025-04-13T18:59:43.201Z"
   },
   {
    "duration": 0,
    "start_time": "2025-04-13T18:59:43.202Z"
   },
   {
    "duration": 0,
    "start_time": "2025-04-13T18:59:43.203Z"
   },
   {
    "duration": 0,
    "start_time": "2025-04-13T18:59:43.204Z"
   },
   {
    "duration": 0,
    "start_time": "2025-04-13T18:59:43.205Z"
   },
   {
    "duration": 0,
    "start_time": "2025-04-13T18:59:43.207Z"
   },
   {
    "duration": 0,
    "start_time": "2025-04-13T18:59:43.208Z"
   },
   {
    "duration": 0,
    "start_time": "2025-04-13T18:59:43.210Z"
   },
   {
    "duration": 0,
    "start_time": "2025-04-13T18:59:43.211Z"
   },
   {
    "duration": 0,
    "start_time": "2025-04-13T18:59:43.213Z"
   },
   {
    "duration": 0,
    "start_time": "2025-04-13T18:59:43.214Z"
   },
   {
    "duration": 0,
    "start_time": "2025-04-13T18:59:43.215Z"
   },
   {
    "duration": 17,
    "start_time": "2025-04-13T18:59:52.080Z"
   },
   {
    "duration": 19,
    "start_time": "2025-04-13T19:00:01.434Z"
   },
   {
    "duration": 14,
    "start_time": "2025-04-13T19:00:04.052Z"
   },
   {
    "duration": 18,
    "start_time": "2025-04-13T19:00:25.421Z"
   },
   {
    "duration": 16,
    "start_time": "2025-04-13T19:00:44.394Z"
   },
   {
    "duration": 16,
    "start_time": "2025-04-13T19:00:52.076Z"
   },
   {
    "duration": 15,
    "start_time": "2025-04-13T19:01:39.940Z"
   },
   {
    "duration": 5,
    "start_time": "2025-04-13T19:01:50.896Z"
   },
   {
    "duration": 4,
    "start_time": "2025-04-13T19:02:00.226Z"
   },
   {
    "duration": 15,
    "start_time": "2025-04-13T19:02:06.201Z"
   },
   {
    "duration": 39,
    "start_time": "2025-04-13T19:02:29.938Z"
   },
   {
    "duration": 31,
    "start_time": "2025-04-13T19:03:43.757Z"
   },
   {
    "duration": 8,
    "start_time": "2025-04-13T19:04:38.336Z"
   },
   {
    "duration": 791,
    "start_time": "2025-04-13T19:05:33.979Z"
   },
   {
    "duration": 155,
    "start_time": "2025-04-13T19:05:34.774Z"
   },
   {
    "duration": 11,
    "start_time": "2025-04-13T19:05:34.930Z"
   },
   {
    "duration": 6,
    "start_time": "2025-04-13T19:05:34.943Z"
   },
   {
    "duration": 8,
    "start_time": "2025-04-13T19:05:34.953Z"
   },
   {
    "duration": 27,
    "start_time": "2025-04-13T19:05:34.963Z"
   },
   {
    "duration": 6,
    "start_time": "2025-04-13T19:05:34.992Z"
   },
   {
    "duration": 8,
    "start_time": "2025-04-13T19:05:35.000Z"
   },
   {
    "duration": 16,
    "start_time": "2025-04-13T19:05:35.009Z"
   },
   {
    "duration": 5,
    "start_time": "2025-04-13T19:05:35.028Z"
   },
   {
    "duration": 18,
    "start_time": "2025-04-13T19:05:35.034Z"
   },
   {
    "duration": 68,
    "start_time": "2025-04-13T19:05:35.054Z"
   },
   {
    "duration": 12,
    "start_time": "2025-04-13T19:05:35.124Z"
   },
   {
    "duration": 4,
    "start_time": "2025-04-13T19:05:35.140Z"
   },
   {
    "duration": 11,
    "start_time": "2025-04-13T19:05:35.145Z"
   },
   {
    "duration": 42,
    "start_time": "2025-04-13T19:05:35.158Z"
   },
   {
    "duration": 14,
    "start_time": "2025-04-13T19:05:35.202Z"
   },
   {
    "duration": 5,
    "start_time": "2025-04-13T19:05:35.217Z"
   },
   {
    "duration": 14,
    "start_time": "2025-04-13T19:05:35.224Z"
   },
   {
    "duration": 64,
    "start_time": "2025-04-13T19:05:35.239Z"
   },
   {
    "duration": 8,
    "start_time": "2025-04-13T19:05:35.305Z"
   },
   {
    "duration": 22,
    "start_time": "2025-04-13T19:05:35.315Z"
   },
   {
    "duration": 14,
    "start_time": "2025-04-13T19:05:35.339Z"
   },
   {
    "duration": 49,
    "start_time": "2025-04-13T19:05:35.355Z"
   },
   {
    "duration": 16,
    "start_time": "2025-04-13T19:05:35.406Z"
   },
   {
    "duration": 16,
    "start_time": "2025-04-13T19:05:35.423Z"
   },
   {
    "duration": 10,
    "start_time": "2025-04-13T19:05:35.441Z"
   },
   {
    "duration": 59,
    "start_time": "2025-04-13T19:05:35.452Z"
   },
   {
    "duration": 258,
    "start_time": "2025-04-13T19:05:35.513Z"
   },
   {
    "duration": 224,
    "start_time": "2025-04-13T19:05:35.773Z"
   },
   {
    "duration": 15,
    "start_time": "2025-04-13T19:05:35.999Z"
   },
   {
    "duration": 103,
    "start_time": "2025-04-13T19:05:36.016Z"
   },
   {
    "duration": 2,
    "start_time": "2025-04-13T19:05:36.121Z"
   },
   {
    "duration": 3,
    "start_time": "2025-04-13T19:05:36.124Z"
   },
   {
    "duration": 3,
    "start_time": "2025-04-13T19:05:36.129Z"
   },
   {
    "duration": 5,
    "start_time": "2025-04-13T19:05:36.133Z"
   },
   {
    "duration": 3,
    "start_time": "2025-04-13T19:06:21.039Z"
   },
   {
    "duration": 3,
    "start_time": "2025-04-13T19:06:26.298Z"
   },
   {
    "duration": 3,
    "start_time": "2025-04-13T19:06:34.623Z"
   },
   {
    "duration": 53,
    "start_time": "2025-04-13T19:06:40.094Z"
   },
   {
    "duration": 248,
    "start_time": "2025-04-13T19:09:27.810Z"
   },
   {
    "duration": 160,
    "start_time": "2025-04-14T00:40:13.677Z"
   },
   {
    "duration": 2581,
    "start_time": "2025-04-14T00:40:18.994Z"
   },
   {
    "duration": 208,
    "start_time": "2025-04-14T00:40:21.577Z"
   },
   {
    "duration": 10,
    "start_time": "2025-04-14T00:40:21.787Z"
   },
   {
    "duration": 6,
    "start_time": "2025-04-14T00:40:21.799Z"
   },
   {
    "duration": 8,
    "start_time": "2025-04-14T00:40:21.808Z"
   },
   {
    "duration": 5,
    "start_time": "2025-04-14T00:40:21.818Z"
   },
   {
    "duration": 5,
    "start_time": "2025-04-14T00:40:21.842Z"
   },
   {
    "duration": 8,
    "start_time": "2025-04-14T00:40:21.848Z"
   },
   {
    "duration": 16,
    "start_time": "2025-04-14T00:40:21.858Z"
   },
   {
    "duration": 4,
    "start_time": "2025-04-14T00:40:21.878Z"
   },
   {
    "duration": 19,
    "start_time": "2025-04-14T00:40:21.884Z"
   },
   {
    "duration": 63,
    "start_time": "2025-04-14T00:40:21.904Z"
   },
   {
    "duration": 13,
    "start_time": "2025-04-14T00:40:21.968Z"
   },
   {
    "duration": 4,
    "start_time": "2025-04-14T00:40:21.982Z"
   },
   {
    "duration": 10,
    "start_time": "2025-04-14T00:40:21.988Z"
   },
   {
    "duration": 14,
    "start_time": "2025-04-14T00:40:22.000Z"
   },
   {
    "duration": 39,
    "start_time": "2025-04-14T00:40:22.016Z"
   },
   {
    "duration": 4,
    "start_time": "2025-04-14T00:40:22.057Z"
   },
   {
    "duration": 14,
    "start_time": "2025-04-14T00:40:22.063Z"
   },
   {
    "duration": 32,
    "start_time": "2025-04-14T00:40:22.079Z"
   },
   {
    "duration": 36,
    "start_time": "2025-04-14T00:40:22.113Z"
   },
   {
    "duration": 21,
    "start_time": "2025-04-14T00:40:22.150Z"
   },
   {
    "duration": 13,
    "start_time": "2025-04-14T00:40:22.173Z"
   },
   {
    "duration": 22,
    "start_time": "2025-04-14T00:40:22.187Z"
   },
   {
    "duration": 43,
    "start_time": "2025-04-14T00:40:22.211Z"
   },
   {
    "duration": 16,
    "start_time": "2025-04-14T00:40:22.256Z"
   },
   {
    "duration": 8,
    "start_time": "2025-04-14T00:40:22.274Z"
   },
   {
    "duration": 28,
    "start_time": "2025-04-14T00:40:22.287Z"
   },
   {
    "duration": 289,
    "start_time": "2025-04-14T00:40:22.316Z"
   },
   {
    "duration": 186,
    "start_time": "2025-04-14T00:40:22.607Z"
   },
   {
    "duration": 15,
    "start_time": "2025-04-14T00:40:22.795Z"
   },
   {
    "duration": 107,
    "start_time": "2025-04-14T00:40:22.812Z"
   },
   {
    "duration": 2,
    "start_time": "2025-04-14T00:40:22.921Z"
   },
   {
    "duration": 3,
    "start_time": "2025-04-14T00:40:22.925Z"
   },
   {
    "duration": 17,
    "start_time": "2025-04-14T00:40:22.929Z"
   },
   {
    "duration": 4,
    "start_time": "2025-04-14T00:40:22.947Z"
   },
   {
    "duration": 84,
    "start_time": "2025-04-14T00:42:50.481Z"
   },
   {
    "duration": 80,
    "start_time": "2025-04-14T00:43:05.182Z"
   },
   {
    "duration": 86,
    "start_time": "2025-04-14T00:43:35.267Z"
   },
   {
    "duration": 239,
    "start_time": "2025-04-14T00:45:08.558Z"
   },
   {
    "duration": 8,
    "start_time": "2025-04-14T00:48:21.675Z"
   },
   {
    "duration": 206,
    "start_time": "2025-04-14T00:52:52.066Z"
   },
   {
    "duration": 171,
    "start_time": "2025-04-14T00:55:01.904Z"
   },
   {
    "duration": 159,
    "start_time": "2025-04-14T00:57:32.311Z"
   },
   {
    "duration": 3104,
    "start_time": "2025-04-14T23:20:24.076Z"
   },
   {
    "duration": 230,
    "start_time": "2025-04-14T23:20:27.183Z"
   },
   {
    "duration": 16,
    "start_time": "2025-04-14T23:20:27.414Z"
   },
   {
    "duration": 6,
    "start_time": "2025-04-14T23:20:27.432Z"
   },
   {
    "duration": 9,
    "start_time": "2025-04-14T23:20:27.441Z"
   },
   {
    "duration": 6,
    "start_time": "2025-04-14T23:20:27.452Z"
   },
   {
    "duration": 7,
    "start_time": "2025-04-14T23:20:27.460Z"
   },
   {
    "duration": 7,
    "start_time": "2025-04-14T23:20:27.468Z"
   },
   {
    "duration": 53,
    "start_time": "2025-04-14T23:20:27.476Z"
   },
   {
    "duration": 5,
    "start_time": "2025-04-14T23:20:27.531Z"
   },
   {
    "duration": 25,
    "start_time": "2025-04-14T23:20:27.538Z"
   },
   {
    "duration": 50,
    "start_time": "2025-04-14T23:20:27.565Z"
   },
   {
    "duration": 15,
    "start_time": "2025-04-14T23:20:27.618Z"
   },
   {
    "duration": 4,
    "start_time": "2025-04-14T23:20:27.637Z"
   },
   {
    "duration": 16,
    "start_time": "2025-04-14T23:20:27.643Z"
   },
   {
    "duration": 16,
    "start_time": "2025-04-14T23:20:27.661Z"
   },
   {
    "duration": 50,
    "start_time": "2025-04-14T23:20:27.678Z"
   },
   {
    "duration": 6,
    "start_time": "2025-04-14T23:20:27.730Z"
   },
   {
    "duration": 14,
    "start_time": "2025-04-14T23:20:27.739Z"
   },
   {
    "duration": 33,
    "start_time": "2025-04-14T23:20:27.755Z"
   },
   {
    "duration": 7,
    "start_time": "2025-04-14T23:20:27.812Z"
   },
   {
    "duration": 26,
    "start_time": "2025-04-14T23:20:27.821Z"
   },
   {
    "duration": 19,
    "start_time": "2025-04-14T23:20:27.849Z"
   },
   {
    "duration": 54,
    "start_time": "2025-04-14T23:20:27.871Z"
   },
   {
    "duration": 21,
    "start_time": "2025-04-14T23:20:27.929Z"
   },
   {
    "duration": 17,
    "start_time": "2025-04-14T23:20:27.952Z"
   },
   {
    "duration": 9,
    "start_time": "2025-04-14T23:20:27.971Z"
   },
   {
    "duration": 82,
    "start_time": "2025-04-14T23:20:27.982Z"
   },
   {
    "duration": 300,
    "start_time": "2025-04-14T23:20:28.066Z"
   },
   {
    "duration": 210,
    "start_time": "2025-04-14T23:20:28.368Z"
   },
   {
    "duration": 15,
    "start_time": "2025-04-14T23:20:28.580Z"
   },
   {
    "duration": 108,
    "start_time": "2025-04-14T23:20:28.596Z"
   },
   {
    "duration": 192,
    "start_time": "2025-04-14T23:20:28.716Z"
   },
   {
    "duration": 203,
    "start_time": "2025-04-14T23:20:28.910Z"
   },
   {
    "duration": 260,
    "start_time": "2025-04-14T23:20:29.115Z"
   },
   {
    "duration": 2,
    "start_time": "2025-04-14T23:20:29.377Z"
   },
   {
    "duration": 4,
    "start_time": "2025-04-14T23:20:29.380Z"
   },
   {
    "duration": 158,
    "start_time": "2025-04-14T23:21:05.405Z"
   },
   {
    "duration": 160,
    "start_time": "2025-04-15T21:35:57.790Z"
   },
   {
    "duration": 2735,
    "start_time": "2025-04-15T21:36:09.845Z"
   },
   {
    "duration": 333,
    "start_time": "2025-04-15T21:36:12.583Z"
   },
   {
    "duration": 17,
    "start_time": "2025-04-15T21:36:12.918Z"
   },
   {
    "duration": 7,
    "start_time": "2025-04-15T21:36:12.937Z"
   },
   {
    "duration": 9,
    "start_time": "2025-04-15T21:36:12.947Z"
   },
   {
    "duration": 5,
    "start_time": "2025-04-15T21:36:12.958Z"
   },
   {
    "duration": 7,
    "start_time": "2025-04-15T21:36:12.965Z"
   },
   {
    "duration": 8,
    "start_time": "2025-04-15T21:36:12.973Z"
   },
   {
    "duration": 45,
    "start_time": "2025-04-15T21:36:12.983Z"
   },
   {
    "duration": 6,
    "start_time": "2025-04-15T21:36:13.030Z"
   },
   {
    "duration": 21,
    "start_time": "2025-04-15T21:36:13.037Z"
   },
   {
    "duration": 40,
    "start_time": "2025-04-15T21:36:13.061Z"
   },
   {
    "duration": 16,
    "start_time": "2025-04-15T21:36:13.125Z"
   },
   {
    "duration": 4,
    "start_time": "2025-04-15T21:36:13.145Z"
   },
   {
    "duration": 12,
    "start_time": "2025-04-15T21:36:13.151Z"
   },
   {
    "duration": 17,
    "start_time": "2025-04-15T21:36:13.164Z"
   },
   {
    "duration": 47,
    "start_time": "2025-04-15T21:36:13.183Z"
   },
   {
    "duration": 5,
    "start_time": "2025-04-15T21:36:13.232Z"
   },
   {
    "duration": 14,
    "start_time": "2025-04-15T21:36:13.239Z"
   },
   {
    "duration": 40,
    "start_time": "2025-04-15T21:36:13.255Z"
   },
   {
    "duration": 36,
    "start_time": "2025-04-15T21:36:13.297Z"
   },
   {
    "duration": 23,
    "start_time": "2025-04-15T21:36:13.334Z"
   },
   {
    "duration": 13,
    "start_time": "2025-04-15T21:36:13.358Z"
   },
   {
    "duration": 24,
    "start_time": "2025-04-15T21:36:13.374Z"
   },
   {
    "duration": 18,
    "start_time": "2025-04-15T21:36:13.425Z"
   },
   {
    "duration": 17,
    "start_time": "2025-04-15T21:36:13.445Z"
   },
   {
    "duration": 10,
    "start_time": "2025-04-15T21:36:13.463Z"
   },
   {
    "duration": 61,
    "start_time": "2025-04-15T21:36:13.475Z"
   },
   {
    "duration": 279,
    "start_time": "2025-04-15T21:36:13.538Z"
   },
   {
    "duration": 206,
    "start_time": "2025-04-15T21:36:13.818Z"
   },
   {
    "duration": 18,
    "start_time": "2025-04-15T21:36:14.025Z"
   },
   {
    "duration": 112,
    "start_time": "2025-04-15T21:36:14.045Z"
   },
   {
    "duration": 235,
    "start_time": "2025-04-15T21:36:14.159Z"
   },
   {
    "duration": 163,
    "start_time": "2025-04-15T21:36:14.397Z"
   },
   {
    "duration": 143,
    "start_time": "2025-04-15T21:36:14.562Z"
   },
   {
    "duration": 2,
    "start_time": "2025-04-15T21:36:14.708Z"
   },
   {
    "duration": 13,
    "start_time": "2025-04-15T21:36:14.712Z"
   },
   {
    "duration": 221,
    "start_time": "2025-04-16T01:16:55.186Z"
   },
   {
    "duration": 2758,
    "start_time": "2025-04-16T01:16:59.696Z"
   },
   {
    "duration": 341,
    "start_time": "2025-04-16T01:17:02.456Z"
   },
   {
    "duration": 16,
    "start_time": "2025-04-16T01:17:02.799Z"
   },
   {
    "duration": 8,
    "start_time": "2025-04-16T01:17:02.824Z"
   },
   {
    "duration": 12,
    "start_time": "2025-04-16T01:17:02.836Z"
   },
   {
    "duration": 6,
    "start_time": "2025-04-16T01:17:02.850Z"
   },
   {
    "duration": 6,
    "start_time": "2025-04-16T01:17:02.858Z"
   },
   {
    "duration": 10,
    "start_time": "2025-04-16T01:17:02.866Z"
   },
   {
    "duration": 16,
    "start_time": "2025-04-16T01:17:02.877Z"
   },
   {
    "duration": 6,
    "start_time": "2025-04-16T01:17:02.895Z"
   },
   {
    "duration": 52,
    "start_time": "2025-04-16T01:17:02.903Z"
   },
   {
    "duration": 45,
    "start_time": "2025-04-16T01:17:02.957Z"
   },
   {
    "duration": 12,
    "start_time": "2025-04-16T01:17:03.004Z"
   },
   {
    "duration": 24,
    "start_time": "2025-04-16T01:17:03.020Z"
   },
   {
    "duration": 16,
    "start_time": "2025-04-16T01:17:03.045Z"
   },
   {
    "duration": 27,
    "start_time": "2025-04-16T01:17:03.063Z"
   },
   {
    "duration": 16,
    "start_time": "2025-04-16T01:17:03.094Z"
   },
   {
    "duration": 5,
    "start_time": "2025-04-16T01:17:03.111Z"
   },
   {
    "duration": 16,
    "start_time": "2025-04-16T01:17:03.145Z"
   },
   {
    "duration": 36,
    "start_time": "2025-04-16T01:17:03.163Z"
   },
   {
    "duration": 10,
    "start_time": "2025-04-16T01:17:03.201Z"
   },
   {
    "duration": 47,
    "start_time": "2025-04-16T01:17:03.213Z"
   },
   {
    "duration": 19,
    "start_time": "2025-04-16T01:17:03.262Z"
   },
   {
    "duration": 29,
    "start_time": "2025-04-16T01:17:03.283Z"
   },
   {
    "duration": 43,
    "start_time": "2025-04-16T01:17:03.315Z"
   },
   {
    "duration": 24,
    "start_time": "2025-04-16T01:17:03.360Z"
   },
   {
    "duration": 9,
    "start_time": "2025-04-16T01:17:03.386Z"
   },
   {
    "duration": 56,
    "start_time": "2025-04-16T01:17:03.397Z"
   },
   {
    "duration": 412,
    "start_time": "2025-04-16T01:17:03.455Z"
   },
   {
    "duration": 198,
    "start_time": "2025-04-16T01:17:03.869Z"
   },
   {
    "duration": 15,
    "start_time": "2025-04-16T01:17:04.069Z"
   },
   {
    "duration": 112,
    "start_time": "2025-04-16T01:17:04.085Z"
   },
   {
    "duration": 162,
    "start_time": "2025-04-16T01:17:04.199Z"
   },
   {
    "duration": 212,
    "start_time": "2025-04-16T01:17:04.363Z"
   },
   {
    "duration": 140,
    "start_time": "2025-04-16T01:17:04.578Z"
   },
   {
    "duration": 2,
    "start_time": "2025-04-16T01:17:04.719Z"
   },
   {
    "duration": 3,
    "start_time": "2025-04-16T01:17:04.723Z"
   },
   {
    "duration": 109,
    "start_time": "2025-04-16T01:17:40.986Z"
   },
   {
    "duration": 15,
    "start_time": "2025-04-16T01:27:39.953Z"
   },
   {
    "duration": 166,
    "start_time": "2025-04-16T22:37:14.801Z"
   },
   {
    "duration": 2466,
    "start_time": "2025-04-16T22:37:23.770Z"
   },
   {
    "duration": 195,
    "start_time": "2025-04-16T22:37:26.238Z"
   },
   {
    "duration": 12,
    "start_time": "2025-04-16T22:37:26.436Z"
   },
   {
    "duration": 5,
    "start_time": "2025-04-16T22:37:26.450Z"
   },
   {
    "duration": 7,
    "start_time": "2025-04-16T22:37:26.457Z"
   },
   {
    "duration": 5,
    "start_time": "2025-04-16T22:37:26.466Z"
   },
   {
    "duration": 5,
    "start_time": "2025-04-16T22:37:26.473Z"
   },
   {
    "duration": 32,
    "start_time": "2025-04-16T22:37:26.480Z"
   },
   {
    "duration": 17,
    "start_time": "2025-04-16T22:37:26.513Z"
   },
   {
    "duration": 4,
    "start_time": "2025-04-16T22:37:26.534Z"
   },
   {
    "duration": 17,
    "start_time": "2025-04-16T22:37:26.540Z"
   },
   {
    "duration": 158,
    "start_time": "2025-04-16T22:37:26.558Z"
   },
   {
    "duration": 12,
    "start_time": "2025-04-16T22:37:26.718Z"
   },
   {
    "duration": 6,
    "start_time": "2025-04-16T22:37:26.732Z"
   },
   {
    "duration": 11,
    "start_time": "2025-04-16T22:37:26.739Z"
   },
   {
    "duration": 14,
    "start_time": "2025-04-16T22:37:26.752Z"
   },
   {
    "duration": 13,
    "start_time": "2025-04-16T22:37:26.768Z"
   },
   {
    "duration": 30,
    "start_time": "2025-04-16T22:37:26.783Z"
   },
   {
    "duration": 13,
    "start_time": "2025-04-16T22:37:26.814Z"
   },
   {
    "duration": 32,
    "start_time": "2025-04-16T22:37:26.829Z"
   },
   {
    "duration": 8,
    "start_time": "2025-04-16T22:37:26.862Z"
   },
   {
    "duration": 49,
    "start_time": "2025-04-16T22:37:26.872Z"
   },
   {
    "duration": 13,
    "start_time": "2025-04-16T22:37:26.923Z"
   },
   {
    "duration": 15,
    "start_time": "2025-04-16T22:37:26.938Z"
   },
   {
    "duration": 15,
    "start_time": "2025-04-16T22:37:26.954Z"
   },
   {
    "duration": 44,
    "start_time": "2025-04-16T22:37:26.971Z"
   },
   {
    "duration": 10,
    "start_time": "2025-04-16T22:37:27.016Z"
   },
   {
    "duration": 28,
    "start_time": "2025-04-16T22:37:27.030Z"
   },
   {
    "duration": 267,
    "start_time": "2025-04-16T22:37:27.060Z"
   },
   {
    "duration": 170,
    "start_time": "2025-04-16T22:37:27.329Z"
   },
   {
    "duration": 21,
    "start_time": "2025-04-16T22:37:27.501Z"
   },
   {
    "duration": 117,
    "start_time": "2025-04-16T22:37:27.524Z"
   },
   {
    "duration": 162,
    "start_time": "2025-04-16T22:37:27.643Z"
   },
   {
    "duration": 160,
    "start_time": "2025-04-16T22:37:27.807Z"
   },
   {
    "duration": 146,
    "start_time": "2025-04-16T22:37:27.968Z"
   },
   {
    "duration": 2,
    "start_time": "2025-04-16T22:37:28.116Z"
   },
   {
    "duration": 4,
    "start_time": "2025-04-16T22:37:28.119Z"
   },
   {
    "duration": 213,
    "start_time": "2025-04-16T22:50:48.721Z"
   },
   {
    "duration": 151,
    "start_time": "2025-04-16T22:51:00.571Z"
   },
   {
    "duration": 152,
    "start_time": "2025-04-16T22:51:23.511Z"
   },
   {
    "duration": 168,
    "start_time": "2025-04-16T22:51:38.469Z"
   },
   {
    "duration": 151,
    "start_time": "2025-04-16T22:57:57.140Z"
   },
   {
    "duration": 146,
    "start_time": "2025-04-16T22:58:10.781Z"
   },
   {
    "duration": 962,
    "start_time": "2025-04-16T22:58:31.561Z"
   },
   {
    "duration": 148,
    "start_time": "2025-04-16T22:59:01.937Z"
   },
   {
    "duration": 151,
    "start_time": "2025-04-16T23:01:14.028Z"
   },
   {
    "duration": 149,
    "start_time": "2025-04-16T23:01:30.349Z"
   },
   {
    "duration": 156,
    "start_time": "2025-04-16T23:01:45.849Z"
   },
   {
    "duration": 8,
    "start_time": "2025-04-16T23:02:07.860Z"
   },
   {
    "duration": 166,
    "start_time": "2025-04-16T23:02:11.459Z"
   },
   {
    "duration": 8,
    "start_time": "2025-04-16T23:03:41.586Z"
   },
   {
    "duration": 7,
    "start_time": "2025-04-16T23:03:43.999Z"
   },
   {
    "duration": 7,
    "start_time": "2025-04-16T23:05:32.978Z"
   },
   {
    "duration": 6,
    "start_time": "2025-04-16T23:05:35.072Z"
   },
   {
    "duration": 15,
    "start_time": "2025-04-16T23:50:15.598Z"
   },
   {
    "duration": 3,
    "start_time": "2025-04-16T23:50:30.836Z"
   },
   {
    "duration": 153,
    "start_time": "2025-04-16T23:50:30.841Z"
   },
   {
    "duration": 8,
    "start_time": "2025-04-16T23:50:30.996Z"
   },
   {
    "duration": 6,
    "start_time": "2025-04-16T23:50:31.006Z"
   },
   {
    "duration": 7,
    "start_time": "2025-04-16T23:50:31.015Z"
   },
   {
    "duration": 5,
    "start_time": "2025-04-16T23:50:31.024Z"
   },
   {
    "duration": 6,
    "start_time": "2025-04-16T23:50:31.030Z"
   },
   {
    "duration": 7,
    "start_time": "2025-04-16T23:50:31.038Z"
   },
   {
    "duration": 16,
    "start_time": "2025-04-16T23:50:31.047Z"
   },
   {
    "duration": 6,
    "start_time": "2025-04-16T23:50:31.064Z"
   },
   {
    "duration": 55,
    "start_time": "2025-04-16T23:50:31.071Z"
   },
   {
    "duration": 136,
    "start_time": "2025-04-16T23:50:31.127Z"
   },
   {
    "duration": 12,
    "start_time": "2025-04-16T23:50:31.265Z"
   },
   {
    "duration": 4,
    "start_time": "2025-04-16T23:50:31.280Z"
   },
   {
    "duration": 34,
    "start_time": "2025-04-16T23:50:31.285Z"
   },
   {
    "duration": 23,
    "start_time": "2025-04-16T23:50:31.321Z"
   },
   {
    "duration": 17,
    "start_time": "2025-04-16T23:50:31.345Z"
   },
   {
    "duration": 6,
    "start_time": "2025-04-16T23:50:31.364Z"
   },
   {
    "duration": 43,
    "start_time": "2025-04-16T23:50:31.372Z"
   },
   {
    "duration": 35,
    "start_time": "2025-04-16T23:50:31.417Z"
   },
   {
    "duration": 9,
    "start_time": "2025-04-16T23:50:31.454Z"
   },
   {
    "duration": 21,
    "start_time": "2025-04-16T23:50:31.465Z"
   },
   {
    "duration": 34,
    "start_time": "2025-04-16T23:50:31.488Z"
   },
   {
    "duration": 15,
    "start_time": "2025-04-16T23:50:31.523Z"
   },
   {
    "duration": 14,
    "start_time": "2025-04-16T23:50:31.539Z"
   },
   {
    "duration": 16,
    "start_time": "2025-04-16T23:50:31.554Z"
   },
   {
    "duration": 42,
    "start_time": "2025-04-16T23:50:31.572Z"
   },
   {
    "duration": 29,
    "start_time": "2025-04-16T23:50:31.616Z"
   },
   {
    "duration": 260,
    "start_time": "2025-04-16T23:50:31.647Z"
   },
   {
    "duration": 169,
    "start_time": "2025-04-16T23:50:31.912Z"
   },
   {
    "duration": 14,
    "start_time": "2025-04-16T23:50:32.083Z"
   },
   {
    "duration": 120,
    "start_time": "2025-04-16T23:50:32.099Z"
   },
   {
    "duration": 158,
    "start_time": "2025-04-16T23:50:32.221Z"
   },
   {
    "duration": 7,
    "start_time": "2025-04-16T23:50:32.382Z"
   },
   {
    "duration": 160,
    "start_time": "2025-04-16T23:50:32.390Z"
   },
   {
    "duration": 7,
    "start_time": "2025-04-16T23:50:32.552Z"
   },
   {
    "duration": 6,
    "start_time": "2025-04-16T23:50:32.561Z"
   },
   {
    "duration": 150,
    "start_time": "2025-04-16T23:50:32.568Z"
   },
   {
    "duration": 6,
    "start_time": "2025-04-16T23:50:32.720Z"
   },
   {
    "duration": 5,
    "start_time": "2025-04-16T23:50:32.728Z"
   },
   {
    "duration": 6,
    "start_time": "2025-04-16T23:50:32.738Z"
   },
   {
    "duration": 2,
    "start_time": "2025-04-16T23:50:32.746Z"
   },
   {
    "duration": 393,
    "start_time": "2025-04-16T23:53:49.372Z"
   },
   {
    "duration": 5,
    "start_time": "2025-04-17T00:02:20.548Z"
   },
   {
    "duration": 2,
    "start_time": "2025-04-17T00:02:35.846Z"
   },
   {
    "duration": 4,
    "start_time": "2025-04-17T00:02:40.572Z"
   },
   {
    "duration": 9,
    "start_time": "2025-04-17T00:19:29.124Z"
   },
   {
    "duration": 11,
    "start_time": "2025-04-17T00:21:32.881Z"
   },
   {
    "duration": 2,
    "start_time": "2025-04-17T00:26:28.160Z"
   },
   {
    "duration": 457,
    "start_time": "2025-04-17T01:07:09.719Z"
   },
   {
    "duration": 804,
    "start_time": "2025-04-17T01:08:17.567Z"
   },
   {
    "duration": 169,
    "start_time": "2025-04-17T01:08:18.373Z"
   },
   {
    "duration": 9,
    "start_time": "2025-04-17T01:08:18.544Z"
   },
   {
    "duration": 6,
    "start_time": "2025-04-17T01:08:18.555Z"
   },
   {
    "duration": 7,
    "start_time": "2025-04-17T01:08:18.563Z"
   },
   {
    "duration": 5,
    "start_time": "2025-04-17T01:08:18.572Z"
   },
   {
    "duration": 33,
    "start_time": "2025-04-17T01:08:18.579Z"
   },
   {
    "duration": 7,
    "start_time": "2025-04-17T01:08:18.614Z"
   },
   {
    "duration": 14,
    "start_time": "2025-04-17T01:08:18.623Z"
   },
   {
    "duration": 4,
    "start_time": "2025-04-17T01:08:18.641Z"
   },
   {
    "duration": 18,
    "start_time": "2025-04-17T01:08:18.647Z"
   },
   {
    "duration": 165,
    "start_time": "2025-04-17T01:08:18.666Z"
   },
   {
    "duration": 12,
    "start_time": "2025-04-17T01:08:18.833Z"
   },
   {
    "duration": 4,
    "start_time": "2025-04-17T01:08:18.847Z"
   },
   {
    "duration": 11,
    "start_time": "2025-04-17T01:08:18.853Z"
   },
   {
    "duration": 15,
    "start_time": "2025-04-17T01:08:18.865Z"
   },
   {
    "duration": 45,
    "start_time": "2025-04-17T01:08:18.881Z"
   },
   {
    "duration": 7,
    "start_time": "2025-04-17T01:08:18.927Z"
   },
   {
    "duration": 14,
    "start_time": "2025-04-17T01:08:18.935Z"
   },
   {
    "duration": 33,
    "start_time": "2025-04-17T01:08:18.950Z"
   },
   {
    "duration": 34,
    "start_time": "2025-04-17T01:08:18.985Z"
   },
   {
    "duration": 24,
    "start_time": "2025-04-17T01:08:19.021Z"
   },
   {
    "duration": 12,
    "start_time": "2025-04-17T01:08:19.047Z"
   },
   {
    "duration": 14,
    "start_time": "2025-04-17T01:08:19.061Z"
   },
   {
    "duration": 40,
    "start_time": "2025-04-17T01:08:19.077Z"
   },
   {
    "duration": 18,
    "start_time": "2025-04-17T01:08:19.119Z"
   },
   {
    "duration": 10,
    "start_time": "2025-04-17T01:08:19.139Z"
   },
   {
    "duration": 27,
    "start_time": "2025-04-17T01:08:19.154Z"
   },
   {
    "duration": 281,
    "start_time": "2025-04-17T01:08:19.182Z"
   },
   {
    "duration": 218,
    "start_time": "2025-04-17T01:08:19.465Z"
   },
   {
    "duration": 15,
    "start_time": "2025-04-17T01:08:19.686Z"
   },
   {
    "duration": 122,
    "start_time": "2025-04-17T01:08:19.703Z"
   },
   {
    "duration": 166,
    "start_time": "2025-04-17T01:08:19.827Z"
   },
   {
    "duration": 7,
    "start_time": "2025-04-17T01:08:19.995Z"
   },
   {
    "duration": 162,
    "start_time": "2025-04-17T01:08:20.003Z"
   },
   {
    "duration": 6,
    "start_time": "2025-04-17T01:08:20.166Z"
   },
   {
    "duration": 5,
    "start_time": "2025-04-17T01:08:20.174Z"
   },
   {
    "duration": 145,
    "start_time": "2025-04-17T01:08:20.180Z"
   },
   {
    "duration": 6,
    "start_time": "2025-04-17T01:08:20.327Z"
   },
   {
    "duration": 6,
    "start_time": "2025-04-17T01:08:20.336Z"
   },
   {
    "duration": 5,
    "start_time": "2025-04-17T01:08:20.343Z"
   },
   {
    "duration": 16,
    "start_time": "2025-04-17T01:08:20.349Z"
   },
   {
    "duration": 20,
    "start_time": "2025-04-17T01:08:43.755Z"
   },
   {
    "duration": 20,
    "start_time": "2025-04-17T01:09:05.085Z"
   },
   {
    "duration": 18,
    "start_time": "2025-04-17T01:09:12.872Z"
   },
   {
    "duration": 23,
    "start_time": "2025-04-17T01:09:28.621Z"
   },
   {
    "duration": 19,
    "start_time": "2025-04-17T01:09:39.250Z"
   },
   {
    "duration": 20,
    "start_time": "2025-04-17T01:09:47.800Z"
   },
   {
    "duration": 22,
    "start_time": "2025-04-17T01:09:57.661Z"
   },
   {
    "duration": 19,
    "start_time": "2025-04-17T01:10:19.244Z"
   },
   {
    "duration": 804,
    "start_time": "2025-04-17T01:10:38.303Z"
   },
   {
    "duration": 189,
    "start_time": "2025-04-17T01:10:39.109Z"
   },
   {
    "duration": 12,
    "start_time": "2025-04-17T01:10:39.300Z"
   },
   {
    "duration": 5,
    "start_time": "2025-04-17T01:10:39.315Z"
   },
   {
    "duration": 8,
    "start_time": "2025-04-17T01:10:39.321Z"
   },
   {
    "duration": 5,
    "start_time": "2025-04-17T01:10:39.332Z"
   },
   {
    "duration": 6,
    "start_time": "2025-04-17T01:10:39.338Z"
   },
   {
    "duration": 8,
    "start_time": "2025-04-17T01:10:39.347Z"
   },
   {
    "duration": 16,
    "start_time": "2025-04-17T01:10:39.356Z"
   },
   {
    "duration": 36,
    "start_time": "2025-04-17T01:10:39.375Z"
   },
   {
    "duration": 18,
    "start_time": "2025-04-17T01:10:39.414Z"
   },
   {
    "duration": 168,
    "start_time": "2025-04-17T01:10:39.433Z"
   },
   {
    "duration": 15,
    "start_time": "2025-04-17T01:10:39.603Z"
   },
   {
    "duration": 5,
    "start_time": "2025-04-17T01:10:39.621Z"
   },
   {
    "duration": 12,
    "start_time": "2025-04-17T01:10:39.627Z"
   },
   {
    "duration": 19,
    "start_time": "2025-04-17T01:10:39.640Z"
   },
   {
    "duration": 17,
    "start_time": "2025-04-17T01:10:39.661Z"
   },
   {
    "duration": 34,
    "start_time": "2025-04-17T01:10:39.680Z"
   },
   {
    "duration": 19,
    "start_time": "2025-04-17T01:10:39.715Z"
   },
   {
    "duration": 34,
    "start_time": "2025-04-17T01:10:39.736Z"
   },
   {
    "duration": 7,
    "start_time": "2025-04-17T01:10:39.772Z"
   },
   {
    "duration": 42,
    "start_time": "2025-04-17T01:10:39.781Z"
   },
   {
    "duration": 17,
    "start_time": "2025-04-17T01:10:39.824Z"
   },
   {
    "duration": 19,
    "start_time": "2025-04-17T01:10:39.842Z"
   },
   {
    "duration": 19,
    "start_time": "2025-04-17T01:10:39.863Z"
   },
   {
    "duration": 42,
    "start_time": "2025-04-17T01:10:39.884Z"
   },
   {
    "duration": 11,
    "start_time": "2025-04-17T01:10:39.928Z"
   },
   {
    "duration": 43,
    "start_time": "2025-04-17T01:10:39.944Z"
   },
   {
    "duration": 277,
    "start_time": "2025-04-17T01:10:39.989Z"
   },
   {
    "duration": 219,
    "start_time": "2025-04-17T01:10:40.268Z"
   },
   {
    "duration": 21,
    "start_time": "2025-04-17T01:10:40.490Z"
   },
   {
    "duration": 115,
    "start_time": "2025-04-17T01:10:40.513Z"
   },
   {
    "duration": 172,
    "start_time": "2025-04-17T01:10:40.631Z"
   },
   {
    "duration": 12,
    "start_time": "2025-04-17T01:10:40.804Z"
   },
   {
    "duration": 173,
    "start_time": "2025-04-17T01:10:40.818Z"
   },
   {
    "duration": 8,
    "start_time": "2025-04-17T01:10:40.993Z"
   },
   {
    "duration": 11,
    "start_time": "2025-04-17T01:10:41.002Z"
   },
   {
    "duration": 144,
    "start_time": "2025-04-17T01:10:41.015Z"
   },
   {
    "duration": 7,
    "start_time": "2025-04-17T01:10:41.161Z"
   },
   {
    "duration": 6,
    "start_time": "2025-04-17T01:10:41.170Z"
   },
   {
    "duration": 5,
    "start_time": "2025-04-17T01:10:41.177Z"
   },
   {
    "duration": 40,
    "start_time": "2025-04-17T01:10:41.184Z"
   },
   {
    "duration": 2493,
    "start_time": "2025-04-18T05:38:06.434Z"
   },
   {
    "duration": 221,
    "start_time": "2025-04-18T05:38:08.929Z"
   },
   {
    "duration": 10,
    "start_time": "2025-04-18T05:38:09.152Z"
   },
   {
    "duration": 5,
    "start_time": "2025-04-18T05:38:09.165Z"
   },
   {
    "duration": 7,
    "start_time": "2025-04-18T05:38:09.172Z"
   },
   {
    "duration": 5,
    "start_time": "2025-04-18T05:38:09.182Z"
   },
   {
    "duration": 7,
    "start_time": "2025-04-18T05:38:09.188Z"
   },
   {
    "duration": 12,
    "start_time": "2025-04-18T05:38:09.196Z"
   },
   {
    "duration": 15,
    "start_time": "2025-04-18T05:38:09.210Z"
   },
   {
    "duration": 5,
    "start_time": "2025-04-18T05:38:09.227Z"
   },
   {
    "duration": 17,
    "start_time": "2025-04-18T05:38:09.233Z"
   },
   {
    "duration": 161,
    "start_time": "2025-04-18T05:38:09.251Z"
   },
   {
    "duration": 11,
    "start_time": "2025-04-18T05:38:09.414Z"
   },
   {
    "duration": 4,
    "start_time": "2025-04-18T05:38:09.427Z"
   },
   {
    "duration": 10,
    "start_time": "2025-04-18T05:38:09.433Z"
   },
   {
    "duration": 15,
    "start_time": "2025-04-18T05:38:09.446Z"
   },
   {
    "duration": 42,
    "start_time": "2025-04-18T05:38:09.463Z"
   },
   {
    "duration": 4,
    "start_time": "2025-04-18T05:38:09.507Z"
   },
   {
    "duration": 13,
    "start_time": "2025-04-18T05:38:09.517Z"
   },
   {
    "duration": 33,
    "start_time": "2025-04-18T05:38:09.534Z"
   },
   {
    "duration": 8,
    "start_time": "2025-04-18T05:38:09.569Z"
   },
   {
    "duration": 46,
    "start_time": "2025-04-18T05:38:09.579Z"
   },
   {
    "duration": 13,
    "start_time": "2025-04-18T05:38:09.626Z"
   },
   {
    "duration": 14,
    "start_time": "2025-04-18T05:38:09.641Z"
   },
   {
    "duration": 15,
    "start_time": "2025-04-18T05:38:09.657Z"
   },
   {
    "duration": 41,
    "start_time": "2025-04-18T05:38:09.673Z"
   },
   {
    "duration": 9,
    "start_time": "2025-04-18T05:38:09.716Z"
   },
   {
    "duration": 26,
    "start_time": "2025-04-18T05:38:09.729Z"
   },
   {
    "duration": 277,
    "start_time": "2025-04-18T05:38:09.757Z"
   },
   {
    "duration": 177,
    "start_time": "2025-04-18T05:38:10.036Z"
   },
   {
    "duration": 16,
    "start_time": "2025-04-18T05:38:10.217Z"
   },
   {
    "duration": 122,
    "start_time": "2025-04-18T05:38:10.235Z"
   },
   {
    "duration": 210,
    "start_time": "2025-04-18T05:38:10.359Z"
   },
   {
    "duration": 8,
    "start_time": "2025-04-18T05:38:10.571Z"
   },
   {
    "duration": 174,
    "start_time": "2025-04-18T05:38:10.580Z"
   },
   {
    "duration": 7,
    "start_time": "2025-04-18T05:38:10.757Z"
   },
   {
    "duration": 6,
    "start_time": "2025-04-18T05:38:10.766Z"
   },
   {
    "duration": 147,
    "start_time": "2025-04-18T05:38:10.774Z"
   },
   {
    "duration": 7,
    "start_time": "2025-04-18T05:38:10.923Z"
   },
   {
    "duration": 6,
    "start_time": "2025-04-18T05:38:10.931Z"
   },
   {
    "duration": 4,
    "start_time": "2025-04-18T05:38:10.939Z"
   },
   {
    "duration": 16,
    "start_time": "2025-04-18T05:38:10.946Z"
   },
   {
    "duration": 2854,
    "start_time": "2025-04-19T04:11:59.392Z"
   },
   {
    "duration": 225,
    "start_time": "2025-04-19T04:12:02.248Z"
   },
   {
    "duration": 9,
    "start_time": "2025-04-19T04:12:02.475Z"
   },
   {
    "duration": 6,
    "start_time": "2025-04-19T04:12:02.486Z"
   },
   {
    "duration": 7,
    "start_time": "2025-04-19T04:12:02.493Z"
   },
   {
    "duration": 17,
    "start_time": "2025-04-19T04:12:02.503Z"
   },
   {
    "duration": 8,
    "start_time": "2025-04-19T04:12:02.529Z"
   },
   {
    "duration": 8,
    "start_time": "2025-04-19T04:12:02.539Z"
   },
   {
    "duration": 14,
    "start_time": "2025-04-19T04:12:02.548Z"
   },
   {
    "duration": 5,
    "start_time": "2025-04-19T04:12:02.565Z"
   },
   {
    "duration": 17,
    "start_time": "2025-04-19T04:12:02.571Z"
   },
   {
    "duration": 183,
    "start_time": "2025-04-19T04:12:02.590Z"
   },
   {
    "duration": 13,
    "start_time": "2025-04-19T04:12:02.775Z"
   },
   {
    "duration": 4,
    "start_time": "2025-04-19T04:12:02.790Z"
   },
   {
    "duration": 32,
    "start_time": "2025-04-19T04:12:02.805Z"
   },
   {
    "duration": 16,
    "start_time": "2025-04-19T04:12:02.839Z"
   },
   {
    "duration": 13,
    "start_time": "2025-04-19T04:12:02.857Z"
   },
   {
    "duration": 5,
    "start_time": "2025-04-19T04:12:02.871Z"
   },
   {
    "duration": 39,
    "start_time": "2025-04-19T04:12:02.877Z"
   },
   {
    "duration": 43,
    "start_time": "2025-04-19T04:12:02.928Z"
   },
   {
    "duration": 7,
    "start_time": "2025-04-19T04:12:02.973Z"
   },
   {
    "duration": 21,
    "start_time": "2025-04-19T04:12:02.982Z"
   },
   {
    "duration": 18,
    "start_time": "2025-04-19T04:12:03.005Z"
   },
   {
    "duration": 23,
    "start_time": "2025-04-19T04:12:03.028Z"
   },
   {
    "duration": 16,
    "start_time": "2025-04-19T04:12:03.052Z"
   },
   {
    "duration": 15,
    "start_time": "2025-04-19T04:12:03.070Z"
   },
   {
    "duration": 27,
    "start_time": "2025-04-19T04:12:03.086Z"
   },
   {
    "duration": 33,
    "start_time": "2025-04-19T04:12:03.117Z"
   },
   {
    "duration": 273,
    "start_time": "2025-04-19T04:12:03.151Z"
   },
   {
    "duration": 209,
    "start_time": "2025-04-19T04:12:03.426Z"
   },
   {
    "duration": 15,
    "start_time": "2025-04-19T04:12:03.637Z"
   },
   {
    "duration": 186,
    "start_time": "2025-04-19T04:12:03.654Z"
   },
   {
    "duration": 167,
    "start_time": "2025-04-19T04:12:03.842Z"
   },
   {
    "duration": 21,
    "start_time": "2025-04-19T04:12:04.011Z"
   },
   {
    "duration": 203,
    "start_time": "2025-04-19T04:12:04.034Z"
   },
   {
    "duration": 8,
    "start_time": "2025-04-19T04:12:04.239Z"
   },
   {
    "duration": 6,
    "start_time": "2025-04-19T04:12:04.249Z"
   },
   {
    "duration": 184,
    "start_time": "2025-04-19T04:12:04.256Z"
   },
   {
    "duration": 7,
    "start_time": "2025-04-19T04:12:04.443Z"
   },
   {
    "duration": 6,
    "start_time": "2025-04-19T04:12:04.452Z"
   },
   {
    "duration": 4,
    "start_time": "2025-04-19T04:12:04.460Z"
   },
   {
    "duration": 15,
    "start_time": "2025-04-19T04:12:04.466Z"
   },
   {
    "duration": 170,
    "start_time": "2025-04-19T22:30:33.813Z"
   },
   {
    "duration": 2651,
    "start_time": "2025-04-19T22:30:52.030Z"
   },
   {
    "duration": 287,
    "start_time": "2025-04-19T22:30:54.683Z"
   },
   {
    "duration": 10,
    "start_time": "2025-04-19T22:30:54.972Z"
   },
   {
    "duration": 5,
    "start_time": "2025-04-19T22:30:54.985Z"
   },
   {
    "duration": 2,
    "start_time": "2025-04-19T22:30:54.992Z"
   },
   {
    "duration": 8,
    "start_time": "2025-04-19T22:30:54.996Z"
   },
   {
    "duration": 6,
    "start_time": "2025-04-19T22:30:55.005Z"
   },
   {
    "duration": 6,
    "start_time": "2025-04-19T22:30:55.013Z"
   },
   {
    "duration": 8,
    "start_time": "2025-04-19T22:30:55.021Z"
   },
   {
    "duration": 28,
    "start_time": "2025-04-19T22:30:55.042Z"
   },
   {
    "duration": 5,
    "start_time": "2025-04-19T22:30:55.072Z"
   },
   {
    "duration": 17,
    "start_time": "2025-04-19T22:30:55.078Z"
   },
   {
    "duration": 174,
    "start_time": "2025-04-19T22:30:55.097Z"
   },
   {
    "duration": 13,
    "start_time": "2025-04-19T22:30:55.272Z"
   },
   {
    "duration": 5,
    "start_time": "2025-04-19T22:30:55.287Z"
   },
   {
    "duration": 13,
    "start_time": "2025-04-19T22:30:55.293Z"
   },
   {
    "duration": 14,
    "start_time": "2025-04-19T22:30:55.307Z"
   },
   {
    "duration": 35,
    "start_time": "2025-04-19T22:30:55.323Z"
   },
   {
    "duration": 7,
    "start_time": "2025-04-19T22:30:55.359Z"
   },
   {
    "duration": 20,
    "start_time": "2025-04-19T22:30:55.367Z"
   },
   {
    "duration": 33,
    "start_time": "2025-04-19T22:30:55.389Z"
   },
   {
    "duration": 29,
    "start_time": "2025-04-19T22:30:55.423Z"
   },
   {
    "duration": 23,
    "start_time": "2025-04-19T22:30:55.459Z"
   },
   {
    "duration": 13,
    "start_time": "2025-04-19T22:30:55.483Z"
   },
   {
    "duration": 15,
    "start_time": "2025-04-19T22:30:55.497Z"
   },
   {
    "duration": 16,
    "start_time": "2025-04-19T22:30:55.513Z"
   },
   {
    "duration": 20,
    "start_time": "2025-04-19T22:30:55.543Z"
   },
   {
    "duration": 12,
    "start_time": "2025-04-19T22:30:55.567Z"
   },
   {
    "duration": 29,
    "start_time": "2025-04-19T22:30:55.582Z"
   },
   {
    "duration": 263,
    "start_time": "2025-04-19T22:30:55.613Z"
   },
   {
    "duration": 178,
    "start_time": "2025-04-19T22:30:55.878Z"
   },
   {
    "duration": 18,
    "start_time": "2025-04-19T22:30:56.058Z"
   },
   {
    "duration": 133,
    "start_time": "2025-04-19T22:30:56.077Z"
   },
   {
    "duration": 161,
    "start_time": "2025-04-19T22:30:56.211Z"
   },
   {
    "duration": 8,
    "start_time": "2025-04-19T22:30:56.374Z"
   },
   {
    "duration": 173,
    "start_time": "2025-04-19T22:30:56.385Z"
   },
   {
    "duration": 15,
    "start_time": "2025-04-19T22:30:56.559Z"
   },
   {
    "duration": 6,
    "start_time": "2025-04-19T22:30:56.575Z"
   },
   {
    "duration": 151,
    "start_time": "2025-04-19T22:30:56.582Z"
   },
   {
    "duration": 8,
    "start_time": "2025-04-19T22:30:56.734Z"
   },
   {
    "duration": 8,
    "start_time": "2025-04-19T22:30:56.744Z"
   },
   {
    "duration": 22,
    "start_time": "2025-04-19T22:30:56.754Z"
   },
   {
    "duration": 16,
    "start_time": "2025-04-19T22:30:56.780Z"
   },
   {
    "duration": 4,
    "start_time": "2025-04-19T22:33:38.372Z"
   },
   {
    "duration": 45,
    "start_time": "2025-04-19T22:35:08.621Z"
   },
   {
    "duration": 16,
    "start_time": "2025-04-19T22:35:56.620Z"
   },
   {
    "duration": 802,
    "start_time": "2025-04-19T22:36:52.929Z"
   },
   {
    "duration": 259,
    "start_time": "2025-04-19T22:36:53.733Z"
   },
   {
    "duration": 9,
    "start_time": "2025-04-19T22:36:53.994Z"
   },
   {
    "duration": 5,
    "start_time": "2025-04-19T22:36:54.006Z"
   },
   {
    "duration": 5,
    "start_time": "2025-04-19T22:36:54.013Z"
   },
   {
    "duration": 8,
    "start_time": "2025-04-19T22:36:54.019Z"
   },
   {
    "duration": 30,
    "start_time": "2025-04-19T22:36:54.028Z"
   },
   {
    "duration": 8,
    "start_time": "2025-04-19T22:36:54.071Z"
   },
   {
    "duration": 8,
    "start_time": "2025-04-19T22:36:54.081Z"
   },
   {
    "duration": 14,
    "start_time": "2025-04-19T22:36:54.093Z"
   },
   {
    "duration": 5,
    "start_time": "2025-04-19T22:36:54.108Z"
   },
   {
    "duration": 17,
    "start_time": "2025-04-19T22:36:54.115Z"
   },
   {
    "duration": 51,
    "start_time": "2025-04-19T22:36:54.134Z"
   },
   {
    "duration": 13,
    "start_time": "2025-04-19T22:36:54.186Z"
   },
   {
    "duration": 4,
    "start_time": "2025-04-19T22:36:54.200Z"
   },
   {
    "duration": 11,
    "start_time": "2025-04-19T22:36:54.205Z"
   },
   {
    "duration": 33,
    "start_time": "2025-04-19T22:36:54.217Z"
   },
   {
    "duration": 23,
    "start_time": "2025-04-19T22:36:54.256Z"
   },
   {
    "duration": 4,
    "start_time": "2025-04-19T22:36:54.282Z"
   },
   {
    "duration": 14,
    "start_time": "2025-04-19T22:36:54.288Z"
   },
   {
    "duration": 52,
    "start_time": "2025-04-19T22:36:54.303Z"
   },
   {
    "duration": 11,
    "start_time": "2025-04-19T22:36:54.357Z"
   },
   {
    "duration": 25,
    "start_time": "2025-04-19T22:36:54.370Z"
   },
   {
    "duration": 13,
    "start_time": "2025-04-19T22:36:54.396Z"
   },
   {
    "duration": 14,
    "start_time": "2025-04-19T22:36:54.411Z"
   },
   {
    "duration": 25,
    "start_time": "2025-04-19T22:36:54.445Z"
   },
   {
    "duration": 20,
    "start_time": "2025-04-19T22:36:54.474Z"
   },
   {
    "duration": 10,
    "start_time": "2025-04-19T22:36:54.497Z"
   },
   {
    "duration": 56,
    "start_time": "2025-04-19T22:36:54.509Z"
   },
   {
    "duration": 235,
    "start_time": "2025-04-19T22:36:54.570Z"
   },
   {
    "duration": 194,
    "start_time": "2025-04-19T22:36:54.807Z"
   },
   {
    "duration": 16,
    "start_time": "2025-04-19T22:36:55.005Z"
   },
   {
    "duration": 198,
    "start_time": "2025-04-19T22:36:55.022Z"
   },
   {
    "duration": 164,
    "start_time": "2025-04-19T22:36:55.222Z"
   },
   {
    "duration": 8,
    "start_time": "2025-04-19T22:36:55.388Z"
   },
   {
    "duration": 200,
    "start_time": "2025-04-19T22:36:55.397Z"
   },
   {
    "duration": 8,
    "start_time": "2025-04-19T22:36:55.599Z"
   },
   {
    "duration": 7,
    "start_time": "2025-04-19T22:36:55.609Z"
   },
   {
    "duration": 194,
    "start_time": "2025-04-19T22:36:55.618Z"
   },
   {
    "duration": 9,
    "start_time": "2025-04-19T22:36:55.813Z"
   },
   {
    "duration": 8,
    "start_time": "2025-04-19T22:36:55.824Z"
   },
   {
    "duration": 11,
    "start_time": "2025-04-19T22:36:55.843Z"
   },
   {
    "duration": 26,
    "start_time": "2025-04-19T22:36:55.855Z"
   },
   {
    "duration": 822,
    "start_time": "2025-04-19T22:42:03.875Z"
   },
   {
    "duration": 177,
    "start_time": "2025-04-19T22:42:04.700Z"
   },
   {
    "duration": 9,
    "start_time": "2025-04-19T22:42:04.879Z"
   },
   {
    "duration": 5,
    "start_time": "2025-04-19T22:42:04.891Z"
   },
   {
    "duration": 5,
    "start_time": "2025-04-19T22:42:04.898Z"
   },
   {
    "duration": 8,
    "start_time": "2025-04-19T22:42:04.905Z"
   },
   {
    "duration": 6,
    "start_time": "2025-04-19T22:42:04.914Z"
   },
   {
    "duration": 28,
    "start_time": "2025-04-19T22:42:04.942Z"
   },
   {
    "duration": 7,
    "start_time": "2025-04-19T22:42:04.972Z"
   },
   {
    "duration": 14,
    "start_time": "2025-04-19T22:42:04.983Z"
   },
   {
    "duration": 5,
    "start_time": "2025-04-19T22:42:04.999Z"
   },
   {
    "duration": 17,
    "start_time": "2025-04-19T22:42:05.006Z"
   },
   {
    "duration": 62,
    "start_time": "2025-04-19T22:42:05.026Z"
   },
   {
    "duration": 11,
    "start_time": "2025-04-19T22:42:05.090Z"
   },
   {
    "duration": 5,
    "start_time": "2025-04-19T22:42:05.102Z"
   },
   {
    "duration": 11,
    "start_time": "2025-04-19T22:42:05.108Z"
   },
   {
    "duration": 47,
    "start_time": "2025-04-19T22:42:05.121Z"
   },
   {
    "duration": 16,
    "start_time": "2025-04-19T22:42:05.171Z"
   },
   {
    "duration": 6,
    "start_time": "2025-04-19T22:42:05.189Z"
   },
   {
    "duration": 16,
    "start_time": "2025-04-19T22:42:05.196Z"
   },
   {
    "duration": 54,
    "start_time": "2025-04-19T22:42:05.214Z"
   },
   {
    "duration": 8,
    "start_time": "2025-04-19T22:42:05.270Z"
   },
   {
    "duration": 21,
    "start_time": "2025-04-19T22:42:05.280Z"
   },
   {
    "duration": 13,
    "start_time": "2025-04-19T22:42:05.303Z"
   },
   {
    "duration": 15,
    "start_time": "2025-04-19T22:42:05.318Z"
   },
   {
    "duration": 39,
    "start_time": "2025-04-19T22:42:05.335Z"
   },
   {
    "duration": 16,
    "start_time": "2025-04-19T22:42:05.378Z"
   },
   {
    "duration": 9,
    "start_time": "2025-04-19T22:42:05.399Z"
   },
   {
    "duration": 67,
    "start_time": "2025-04-19T22:42:05.409Z"
   },
   {
    "duration": 235,
    "start_time": "2025-04-19T22:42:05.478Z"
   },
   {
    "duration": 202,
    "start_time": "2025-04-19T22:42:05.716Z"
   },
   {
    "duration": 16,
    "start_time": "2025-04-19T22:42:05.920Z"
   },
   {
    "duration": 178,
    "start_time": "2025-04-19T22:42:05.944Z"
   },
   {
    "duration": 172,
    "start_time": "2025-04-19T22:42:06.124Z"
   },
   {
    "duration": 8,
    "start_time": "2025-04-19T22:42:06.298Z"
   },
   {
    "duration": 187,
    "start_time": "2025-04-19T22:42:06.308Z"
   },
   {
    "duration": 7,
    "start_time": "2025-04-19T22:42:06.497Z"
   },
   {
    "duration": 6,
    "start_time": "2025-04-19T22:42:06.506Z"
   },
   {
    "duration": 184,
    "start_time": "2025-04-19T22:42:06.513Z"
   },
   {
    "duration": 7,
    "start_time": "2025-04-19T22:42:06.700Z"
   },
   {
    "duration": 6,
    "start_time": "2025-04-19T22:42:06.709Z"
   },
   {
    "duration": 5,
    "start_time": "2025-04-19T22:42:06.716Z"
   },
   {
    "duration": 35,
    "start_time": "2025-04-19T22:42:06.750Z"
   },
   {
    "duration": 5,
    "start_time": "2025-04-19T22:43:09.768Z"
   },
   {
    "duration": 865,
    "start_time": "2025-04-19T22:43:13.608Z"
   },
   {
    "duration": 192,
    "start_time": "2025-04-19T22:43:14.476Z"
   },
   {
    "duration": 10,
    "start_time": "2025-04-19T22:43:14.669Z"
   },
   {
    "duration": 5,
    "start_time": "2025-04-19T22:43:14.682Z"
   },
   {
    "duration": 4,
    "start_time": "2025-04-19T22:43:14.689Z"
   },
   {
    "duration": 9,
    "start_time": "2025-04-19T22:43:14.694Z"
   },
   {
    "duration": 5,
    "start_time": "2025-04-19T22:43:14.704Z"
   },
   {
    "duration": 6,
    "start_time": "2025-04-19T22:43:14.711Z"
   },
   {
    "duration": 8,
    "start_time": "2025-04-19T22:43:14.718Z"
   },
   {
    "duration": 29,
    "start_time": "2025-04-19T22:43:14.752Z"
   },
   {
    "duration": 5,
    "start_time": "2025-04-19T22:43:14.783Z"
   },
   {
    "duration": 17,
    "start_time": "2025-04-19T22:43:14.790Z"
   },
   {
    "duration": 56,
    "start_time": "2025-04-19T22:43:14.810Z"
   },
   {
    "duration": 16,
    "start_time": "2025-04-19T22:43:14.867Z"
   },
   {
    "duration": 6,
    "start_time": "2025-04-19T22:43:14.885Z"
   },
   {
    "duration": 11,
    "start_time": "2025-04-19T22:43:14.894Z"
   },
   {
    "duration": 14,
    "start_time": "2025-04-19T22:43:14.907Z"
   },
   {
    "duration": 42,
    "start_time": "2025-04-19T22:43:14.925Z"
   },
   {
    "duration": 8,
    "start_time": "2025-04-19T22:43:14.969Z"
   },
   {
    "duration": 14,
    "start_time": "2025-04-19T22:43:14.979Z"
   },
   {
    "duration": 33,
    "start_time": "2025-04-19T22:43:14.995Z"
   },
   {
    "duration": 9,
    "start_time": "2025-04-19T22:43:15.029Z"
   },
   {
    "duration": 48,
    "start_time": "2025-04-19T22:43:15.039Z"
   },
   {
    "duration": 13,
    "start_time": "2025-04-19T22:43:15.089Z"
   },
   {
    "duration": 15,
    "start_time": "2025-04-19T22:43:15.103Z"
   },
   {
    "duration": 48,
    "start_time": "2025-04-19T22:43:15.120Z"
   },
   {
    "duration": 24,
    "start_time": "2025-04-19T22:43:15.172Z"
   },
   {
    "duration": 11,
    "start_time": "2025-04-19T22:43:15.201Z"
   },
   {
    "duration": 40,
    "start_time": "2025-04-19T22:43:15.214Z"
   },
   {
    "duration": 299,
    "start_time": "2025-04-19T22:43:15.255Z"
   },
   {
    "duration": 427,
    "start_time": "2025-04-19T22:43:15.556Z"
   },
   {
    "duration": 15,
    "start_time": "2025-04-19T22:43:15.985Z"
   },
   {
    "duration": 301,
    "start_time": "2025-04-19T22:43:16.002Z"
   },
   {
    "duration": 190,
    "start_time": "2025-04-19T22:43:16.304Z"
   },
   {
    "duration": 8,
    "start_time": "2025-04-19T22:43:16.495Z"
   },
   {
    "duration": 203,
    "start_time": "2025-04-19T22:43:16.505Z"
   },
   {
    "duration": 7,
    "start_time": "2025-04-19T22:43:16.709Z"
   },
   {
    "duration": 7,
    "start_time": "2025-04-19T22:43:16.718Z"
   },
   {
    "duration": 157,
    "start_time": "2025-04-19T22:43:16.726Z"
   },
   {
    "duration": 7,
    "start_time": "2025-04-19T22:43:16.884Z"
   },
   {
    "duration": 7,
    "start_time": "2025-04-19T22:43:16.893Z"
   },
   {
    "duration": 4,
    "start_time": "2025-04-19T22:43:16.901Z"
   },
   {
    "duration": 43,
    "start_time": "2025-04-19T22:43:16.907Z"
   },
   {
    "duration": 903,
    "start_time": "2025-04-19T22:59:28.567Z"
   },
   {
    "duration": 193,
    "start_time": "2025-04-19T22:59:29.473Z"
   },
   {
    "duration": 9,
    "start_time": "2025-04-19T22:59:29.668Z"
   },
   {
    "duration": 5,
    "start_time": "2025-04-19T22:59:29.679Z"
   },
   {
    "duration": 4,
    "start_time": "2025-04-19T22:59:29.686Z"
   },
   {
    "duration": 9,
    "start_time": "2025-04-19T22:59:29.692Z"
   },
   {
    "duration": 5,
    "start_time": "2025-04-19T22:59:29.703Z"
   },
   {
    "duration": 5,
    "start_time": "2025-04-19T22:59:29.710Z"
   },
   {
    "duration": 8,
    "start_time": "2025-04-19T22:59:29.717Z"
   },
   {
    "duration": 46,
    "start_time": "2025-04-19T22:59:29.726Z"
   },
   {
    "duration": 5,
    "start_time": "2025-04-19T22:59:29.774Z"
   },
   {
    "duration": 19,
    "start_time": "2025-04-19T22:59:29.783Z"
   },
   {
    "duration": 58,
    "start_time": "2025-04-19T22:59:29.804Z"
   },
   {
    "duration": 13,
    "start_time": "2025-04-19T22:59:29.874Z"
   },
   {
    "duration": 6,
    "start_time": "2025-04-19T22:59:29.888Z"
   },
   {
    "duration": 12,
    "start_time": "2025-04-19T22:59:29.895Z"
   },
   {
    "duration": 19,
    "start_time": "2025-04-19T22:59:29.909Z"
   },
   {
    "duration": 49,
    "start_time": "2025-04-19T22:59:29.929Z"
   },
   {
    "duration": 6,
    "start_time": "2025-04-19T22:59:29.980Z"
   },
   {
    "duration": 13,
    "start_time": "2025-04-19T22:59:29.987Z"
   },
   {
    "duration": 34,
    "start_time": "2025-04-19T22:59:30.001Z"
   },
   {
    "duration": 17,
    "start_time": "2025-04-19T22:59:30.037Z"
   },
   {
    "duration": 27,
    "start_time": "2025-04-19T22:59:30.067Z"
   },
   {
    "duration": 14,
    "start_time": "2025-04-19T22:59:30.095Z"
   },
   {
    "duration": 14,
    "start_time": "2025-04-19T22:59:30.111Z"
   },
   {
    "duration": 43,
    "start_time": "2025-04-19T22:59:30.127Z"
   },
   {
    "duration": 19,
    "start_time": "2025-04-19T22:59:30.171Z"
   },
   {
    "duration": 11,
    "start_time": "2025-04-19T22:59:30.192Z"
   },
   {
    "duration": 50,
    "start_time": "2025-04-19T22:59:30.204Z"
   },
   {
    "duration": 261,
    "start_time": "2025-04-19T22:59:30.271Z"
   },
   {
    "duration": 250,
    "start_time": "2025-04-19T22:59:30.534Z"
   },
   {
    "duration": 16,
    "start_time": "2025-04-19T22:59:30.786Z"
   },
   {
    "duration": 132,
    "start_time": "2025-04-19T22:59:30.804Z"
   },
   {
    "duration": 172,
    "start_time": "2025-04-19T22:59:30.946Z"
   },
   {
    "duration": 8,
    "start_time": "2025-04-19T22:59:31.120Z"
   },
   {
    "duration": 173,
    "start_time": "2025-04-19T22:59:31.130Z"
   },
   {
    "duration": 6,
    "start_time": "2025-04-19T22:59:31.305Z"
   },
   {
    "duration": 7,
    "start_time": "2025-04-19T22:59:31.313Z"
   },
   {
    "duration": 168,
    "start_time": "2025-04-19T22:59:31.321Z"
   },
   {
    "duration": 6,
    "start_time": "2025-04-19T22:59:31.491Z"
   },
   {
    "duration": 6,
    "start_time": "2025-04-19T22:59:31.502Z"
   },
   {
    "duration": 5,
    "start_time": "2025-04-19T22:59:31.510Z"
   },
   {
    "duration": 60,
    "start_time": "2025-04-19T22:59:31.516Z"
   },
   {
    "duration": 199,
    "start_time": "2025-04-19T23:00:28.416Z"
   }
  ],
  "colab": {
   "provenance": []
  },
  "kernelspec": {
   "display_name": "base",
   "language": "python",
   "name": "python3"
  },
  "language_info": {
   "codemirror_mode": {
    "name": "ipython",
    "version": 3
   },
   "file_extension": ".py",
   "mimetype": "text/x-python",
   "name": "python",
   "nbconvert_exporter": "python",
   "pygments_lexer": "ipython3",
   "version": "3.12.7"
  },
  "toc": {
   "base_numbering": 1,
   "nav_menu": {},
   "number_sections": true,
   "sideBar": true,
   "skip_h1_title": false,
   "title_cell": "Table of Contents",
   "title_sidebar": "Contents",
   "toc_cell": false,
   "toc_position": {
    "height": "calc(100% - 180px)",
    "left": "10px",
    "top": "150px",
    "width": "165px"
   },
   "toc_section_display": true,
   "toc_window_display": true
  }
 },
 "nbformat": 4,
 "nbformat_minor": 1
}
